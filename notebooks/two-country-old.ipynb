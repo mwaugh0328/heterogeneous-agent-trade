{
 "cells": [
  {
   "cell_type": "code",
   "execution_count": 16,
   "metadata": {},
   "outputs": [],
   "source": [
    "include(\"../code/julia/ha-trade.jl\")\n",
    "include(\"../code/julia/ha-trade-welfare.jl\")\n",
    "\n",
    "using MINPACK\n",
    "using Plots\n",
    "using CSV\n",
    "using DataFrames"
   ]
  },
  {
   "cell_type": "markdown",
   "metadata": {},
   "source": [
    "### Overview\n",
    "\n",
    "This notebook provides an introductory / high-level look into how things in the HAT model operate in a two country environment."
   ]
  },
  {
   "cell_type": "markdown",
   "metadata": {},
   "source": [
    "---\n",
    "\n",
    "### Set Parameters\n",
    "\n",
    "Parameters are subdivided into two groups. One relates specifically to households, then the second relates to country-specific and/or aggregate things. I use keyword structures (as shown below) to construct these values."
   ]
  },
  {
   "cell_type": "code",
   "execution_count": 17,
   "metadata": {},
   "outputs": [],
   "source": [
    "γ = 1.5 # curvatuve on CRRA utility function\n",
    "σϵ = 0.25 # logit dispersion parameter\n",
    "Ncntry = 2 # number of countries\n",
    "\n",
    "# this setups up parameters on the household side\n",
    "hh_prm = household_params(Ncntry = Ncntry, Na = 100, β = 0.92, γ = γ, ϕ = 0.5, amax = 8.0, σϵ = σϵ);"
   ]
  },
  {
   "cell_type": "code",
   "execution_count": 18,
   "metadata": {},
   "outputs": [
    {
     "data": {
      "text/plain": [
       "10-element Vector{Float64}:\n",
       " -1.2622344170981832\n",
       " -0.8052880307463487\n",
       " -0.8091746441159232\n",
       " -0.3522282577640887\n",
       " -0.35611487113366336\n",
       "  0.10083151521817117\n",
       "  0.09694490184859655\n",
       "  0.553891288200431\n",
       "  0.5500046748308562\n",
       "  1.006951061182691"
      ]
     },
     "execution_count": 18,
     "metadata": {},
     "output_type": "execute_result"
    }
   ],
   "source": [
    "hh_prm.mc.state_values"
   ]
  },
  {
   "cell_type": "code",
   "execution_count": 19,
   "metadata": {},
   "outputs": [],
   "source": [
    "# here are some simpe country parametrers\n",
    "TFP = [1.0; 1.0]\n",
    "\n",
    "τ = [0.0; 0.0]\n",
    "\n",
    "L = [1.0; 1.0]\n",
    "\n",
    "d_ij = 1.745\n",
    "\n",
    "d = [1.0 d_ij; d_ij 1.0]\n",
    "\n",
    "# this sets up the country specific paramters\n",
    "cntry_prm = country_params(Ncntry = Ncntry, L = L, d = d, TFP = TFP);"
   ]
  },
  {
   "cell_type": "markdown",
   "metadata": {},
   "source": [
    "---\n",
    "\n",
    "### Find an equilibrium \n",
    "\n",
    "Does what it says. Here I'm computing one for financial globalization. "
   ]
  },
  {
   "cell_type": "code",
   "execution_count": 20,
   "metadata": {},
   "outputs": [
    {
     "name": "stdout",
     "output_type": "stream",
     "text": [
      "Iter     f(x) inf-norm    Step 2-norm      Step time\n",
      "------   --------------   --------------   --------------\n",
      "     1     1.560862e-01     0.000000e+00         2.524000\n",
      "     2     1.454638e-02     2.645692e-05         0.365000\n",
      "     3     1.627947e-03     4.584139e-07         0.077000\n",
      "     4     1.754987e-05     7.263993e-09         0.102000\n",
      "     5     3.596645e-08     8.482776e-13         0.096000\n",
      "     6     3.755033e-11     3.649425e-18         0.088000\n",
      "     7     8.606657e-14     3.797610e-24         0.100000\n",
      "     8     4.232725e-16     1.680990e-29         0.095000\n",
      "Results of Nonlinear Solver Algorithm\n",
      " * Algorithm: Modified Powell\n",
      " * Starting Point: [0.0, 0.01980262729617973]\n",
      " * Zero: [-2.0395862158505247e-9, 0.014094023775306648]\n",
      " * Inf-norm of residuals: 0.000000\n",
      " * Convergence: true\n",
      " * Message: algorithm estimates that the relative error between x and the solution is at most tol\n",
      " * Total time: 3.447000 seconds\n",
      " * Function Calls: 8\n",
      " * Jacobian Calls (df/dx): 1"
     ]
    },
    {
     "data": {
      "text/plain": [
       "1.0141938127868286"
      ]
     },
     "execution_count": 20,
     "metadata": {},
     "output_type": "execute_result"
    }
   ],
   "source": [
    "f(x) = world_equillibrium_FG(exp.(x), hh_prm, cntry_prm; hh_solution_method = \"itteration_old\")\n",
    "# this world... function is used to construct zero conditions for\n",
    "# the finacial globalization case\n",
    "\n",
    "function f!(fvec, x)\n",
    "\n",
    "    fvec .= f(x)\n",
    "\n",
    "end\n",
    "\n",
    "\n",
    "xguess = [1.0; 1.02]\n",
    "\n",
    "n = length(xguess)\n",
    "diag_adjust = n - 1\n",
    "\n",
    "sol = fsolve(f!, log.(xguess), show_trace = true, method = :hybr;\n",
    "      ml=diag_adjust, mu=diag_adjust,\n",
    "      diag=ones(n),\n",
    "      mode= 1,\n",
    "      tol=1e-10,\n",
    "       )\n",
    "\n",
    "# This solver works very well in general. Spencer Lyon converted old-school minpack\n",
    "# routines in C into julia\n",
    "\n",
    "print(sol)\n",
    "\n",
    "wage = [exp.(sol.x[1]); 1.0]\n",
    "R = exp.(sol.x[2])"
   ]
  },
  {
   "cell_type": "markdown",
   "metadata": {},
   "source": [
    "Then here are the results. The first entry is the wage rate which should be 1.0 given the symmetry. The second price is the interest rate, here it should be around 1.4 percent."
   ]
  },
  {
   "cell_type": "code",
   "execution_count": 21,
   "metadata": {},
   "outputs": [
    {
     "name": "stdout",
     "output_type": "stream",
     "text": [
      "[0.9999999979604138, 1.0141938127868286]\n"
     ]
    }
   ],
   "source": [
    "println(exp.(sol.x))"
   ]
  },
  {
   "cell_type": "markdown",
   "metadata": {},
   "source": [
    "Then this call computes aggregates given prices"
   ]
  },
  {
   "cell_type": "code",
   "execution_count": 22,
   "metadata": {},
   "outputs": [],
   "source": [
    "Rsol = [R; R]\n",
    "\n",
    "Y, tradeflows, A_demand, Gbudget, tradeshare, hh, dist = world_equillibrium(Rsol, wage, τ, hh_prm, cntry_prm, tol_vfi = 1e-10);\n",
    "\n",
    "# this world_eq...is a core file takes prices and returns a bunch of stuff\n",
    "# note that hh, dist are objects of dimensiom number of countries, then within\n",
    "# it has policy functions and distributions state by state"
   ]
  },
  {
   "cell_type": "markdown",
   "metadata": {},
   "source": [
    "Here we can see the trade share matrix. Importers are rows, columns are exporters. So Country 1 (aggregate) expenditure share is about 10 percent"
   ]
  },
  {
   "cell_type": "code",
   "execution_count": 23,
   "metadata": {},
   "outputs": [
    {
     "data": {
      "text/plain": [
       "2×2 Matrix{Float64}:\n",
       " 0.900484   0.0995163\n",
       " 0.0995163  0.900484"
      ]
     },
     "execution_count": 23,
     "metadata": {},
     "output_type": "execute_result"
    }
   ],
   "source": [
    "tradeshare"
   ]
  },
  {
   "cell_type": "markdown",
   "metadata": {},
   "source": [
    "Then just to highlight how this works a bit. We can unpack the stuff under this. So here are the state by state choice probabilities of households in country 1. And then one can see how poor people don't buy much, rich people buy more. "
   ]
  },
  {
   "cell_type": "code",
   "execution_count": 24,
   "metadata": {},
   "outputs": [
    {
     "data": {
      "text/plain": [
       "100×10 Matrix{Float64}:\n",
       " 0.00747609  0.0192432  0.0202433  0.0386541  …  0.103814  0.123432  0.138619\n",
       " 0.0139284   0.0212163  0.0281047  0.0428235     0.105277  0.127093  0.139288\n",
       " 0.0194756   0.0264393  0.0357197  0.0456883     0.106613  0.129608  0.139941\n",
       " 0.0218411   0.0282292  0.0387705  0.0478642     0.107806  0.131053  0.140583\n",
       " 0.0265513   0.0302667  0.042976   0.0506709     0.108911  0.132266  0.141216\n",
       " 0.0285041   0.0333028  0.0457674  0.0530594  …  0.109967  0.133278  0.141837\n",
       " 0.030625    0.0352261  0.0480061  0.0548275     0.111015  0.134253  0.142449\n",
       " 0.0333905   0.0371223  0.0507749  0.0564595     0.112049  0.135159  0.143062\n",
       " 0.0354688   0.039016   0.0531147  0.0582905     0.112984  0.136008  0.143643\n",
       " 0.037335    0.0409391  0.0548801  0.0601975     0.113907  0.136789  0.144216\n",
       " 0.0392264   0.0426161  0.0565561  0.061869   …  0.114807  0.137517  0.14478\n",
       " 0.0411777   0.0442844  0.058384   0.0633612     0.115682  0.138219  0.145336\n",
       " 0.0428169   0.0459213  0.0602438  0.0647288     0.116532  0.138903  0.145882\n",
       " ⋮                                            ⋱                      \n",
       " 0.112324    0.113433   0.124063   0.125662      0.157054  0.1724    0.176164\n",
       " 0.112915    0.114014   0.124608   0.12619       0.15744   0.172732  0.176494\n",
       " 0.113502    0.114589   0.125147   0.126717   …  0.157823  0.173063  0.176826\n",
       " 0.114081    0.115159   0.12568    0.127235      0.158204  0.173392  0.177168\n",
       " 0.114655    0.115727   0.126208   0.127743      0.158583  0.17372   0.177529\n",
       " 0.115224    0.116293   0.126734   0.128249      0.158959  0.174048  0.17791\n",
       " 0.115792    0.116857   0.127257   0.128756      0.159333  0.174376  0.178317\n",
       " 0.116356    0.117419   0.127765   0.129262   …  0.159704  0.174696  0.178809\n",
       " 0.11692     0.117968   0.128272   0.129765      0.16008   0.175016  0.179383\n",
       " 0.117482    0.118514   0.128778   0.130269      0.160455  0.175336  0.180032\n",
       " 0.118044    0.119067   0.129284   0.130776      0.160828  0.175656  0.181058\n",
       " 0.118594    0.119617   0.129786   0.131277      0.161199  0.175978  0.182546"
      ]
     },
     "execution_count": 24,
     "metadata": {},
     "output_type": "execute_result"
    }
   ],
   "source": [
    "hh[1].πprob[:,:,2]\n",
    "# guys in country one, a X z, probability of buying from 2"
   ]
  },
  {
   "cell_type": "markdown",
   "metadata": {},
   "source": [
    "---\n",
    "\n",
    "### Compute Elasticities\n",
    "\n",
    "Delivering heterogeneity in price sensitivity is a core issue in my model. Here I illustrate this. \n",
    "\n",
    "Here is what I'm going to do, given the equilibrium prices, I'm going to construct the trade elasticities and aggregate up, per Proposition 3 in the paper. The first step is to reconstruct the household for one country, evaluate how things change at the micro-level, then appropriately aggregate. \n"
   ]
  },
  {
   "cell_type": "code",
   "execution_count": 25,
   "metadata": {},
   "outputs": [],
   "source": [
    "cntry = 1 # this is the country I'll look at\n",
    "\n",
    "p = make_p(wage, TFP, d[cntry, :], cntry_prm.tariff[cntry, :] )\n",
    "# prices from the perspective of those in that country\n",
    "\n",
    "hh = solve_household_problem(R, wage[cntry], p, τ[cntry], hh_prm, tol = 1e-10);\n",
    "# solve hh problem at those prices\n",
    "\n",
    "dist = make_stationary_distribution(hh, hh_prm);\n",
    "# find stationary distribution"
   ]
  },
  {
   "cell_type": "markdown",
   "metadata": {},
   "source": [
    "This cell below then constructs the elasticities via numerical differentiation. Then the last two function calls construct the weights and then aggregate.\n",
    "\n",
    "A note on accuracy. I don't have a closed form for this. But in Mongey and Waugh, we do. And their I found that this approach worked well with the only issues being around states where the household is about to leave the borrowing constraint. This is to be expected per my discussion in the paper regarding how the constraint might show up in the elasticities."
   ]
  },
  {
   "cell_type": "code",
   "execution_count": 26,
   "metadata": {},
   "outputs": [
    {
     "data": {
      "text/plain": [
       "2-element Vector{Float64}:\n",
       "  1.0\n",
       " -4.122612728915419"
      ]
     },
     "execution_count": 26,
     "metadata": {},
     "output_type": "execute_result"
    }
   ],
   "source": [
    "θ = make_θ(cntry, R, wage[cntry], p, τ[cntry], hh_prm; points = 3, order = 1)\n",
    "# makes the micro elasticities for country, cntry, \n",
    "\n",
    "ω = make_ω(hh, dist, L[cntry], p, hh_prm)\n",
    "# makes the expenditure weights\n",
    "\n",
    "agθ = aggregate_θ(θ, ω, cntry, hh_prm)\n",
    "# construct the aggregate elasticity. The interesting element here is \n",
    "# agθ[cntry]"
   ]
  },
  {
   "cell_type": "markdown",
   "metadata": {},
   "source": [
    "--- \n",
    "\n",
    "**A quick tour of the results:**\n",
    "\n",
    "The second element above is the aggregate trade elasticity. In this situation it's about 4. \n",
    "\n",
    "Then we can look at the **micro-elasticities**. \n",
    "\n",
    "The module where I solve for welfare is in [ha-trade-elasticity.jl](./code/julia/ha-trade-elasticity.jl) \n",
    "\n",
    "The θ is a structure and contains the intensive margin, extensive margin, and how home stuff changes with respect to a change in prices. The first one is how θ_{ij}^E looks state by state (assets are rows, income shocks are columns) where one see high extensive margin elasticities for stuff in the upper-left corner of the matrix (poor people) and then in the lower-right corner the elasticities are low (rich people)"
   ]
  },
  {
   "cell_type": "code",
   "execution_count": 27,
   "metadata": {},
   "outputs": [
    {
     "data": {
      "text/plain": [
       "100×10 Matrix{Float64}:\n",
       " -9.98399  -7.66346  -7.82123  -6.11168  …  -3.81843  -3.51919  -3.10012\n",
       " -8.65535  -7.46561  -7.08618  -5.99658     -3.77114  -3.41533  -3.08652\n",
       " -7.63465  -6.90069  -6.49687  -5.73264     -3.73586  -3.3227   -3.07308\n",
       " -7.43753  -6.83407  -6.12146  -5.69363     -3.72726  -3.253    -3.05986\n",
       " -6.89062  -6.65537  -5.99198  -5.54672     -3.69104  -3.24032  -3.0467\n",
       " -6.82645  -6.56984  -5.73066  -5.37011  …  -3.66249  -3.20804  -3.03383\n",
       " -6.64471  -6.34246  -5.61409  -5.2965      -3.63485  -3.18143  -3.02045\n",
       " -6.38424  -6.19529  -5.54417  -5.27502     -3.62869  -3.15881  -3.00858\n",
       " -6.33721  -6.06827  -5.36946  -5.18361     -3.60273  -3.14075  -3.00635\n",
       " -6.19169  -6.03372  -5.29552  -5.07895     -3.57936  -3.13618  -2.99545\n",
       " -6.06332  -5.90189  -5.27349  -5.01119  …  -3.55608  -3.11765  -2.98496\n",
       " -5.92873  -5.79164  -5.18234  -4.99765     -3.53393  -3.10239  -2.97453\n",
       " -5.90388  -5.7003   -5.07842  -4.93368     -3.51325  -3.08829  -2.96422\n",
       "  ⋮                                      ⋱                      \n",
       " -3.60248  -3.57548  -3.35643  -3.32348     -2.78065  -2.54744  -2.49263\n",
       " -3.58861  -3.56214  -3.34533  -3.31255     -2.77421  -2.54247  -2.49158\n",
       " -3.57511  -3.54895  -3.33437  -3.30145  …  -2.76775  -2.53745  -2.48669\n",
       " -3.56182  -3.53616  -3.32338  -3.29922     -2.76119  -2.53237  -2.48197\n",
       " -3.54858  -3.52356  -3.31245  -3.28845     -2.75466  -2.52737  -2.47735\n",
       " -3.53585  -3.51089  -3.30134  -3.2776      -2.74838  -2.52233  -2.47202\n",
       " -3.52321  -3.49831  -3.2991   -3.26673     -2.7422   -2.52146  -2.46679\n",
       " -3.51054  -3.4857   -3.28833  -3.25654  …  -2.73599  -2.51646  -2.46201\n",
       " -3.49796  -3.48276  -3.27747  -3.24629     -2.72916  -2.51168  -2.45669\n",
       " -3.48525  -3.47039  -3.26664  -3.23545     -2.72325  -2.50675  -2.44981\n",
       " -3.47215  -3.45736  -3.25644  -3.22581     -2.71716  -2.50197  -2.44373\n",
       " -3.46999  -3.44498  -3.24618  -3.21604     -2.71598  -2.49687  -2.44155"
      ]
     },
     "execution_count": 27,
     "metadata": {},
     "output_type": "execute_result"
    }
   ],
   "source": [
    "θ.θπ[:,:,2]"
   ]
  },
  {
   "cell_type": "markdown",
   "metadata": {},
   "source": [
    "Then one sees the same thing on the **intensive margin**. Constrained guys have intensive margin elasticities of -1. Then as you get richer, these elasticities fall. The wavy action as one moves across shocks is because of the ordering on the permanent and transitory components of the shocks"
   ]
  },
  {
   "cell_type": "code",
   "execution_count": 28,
   "metadata": {},
   "outputs": [
    {
     "data": {
      "text/plain": [
       "100×10 Matrix{Float64}:\n",
       " -1.0       -0.831032  -1.0       …  -0.74005   -1.0       -0.694766\n",
       " -1.0       -0.827918  -1.0          -0.725722  -1.0       -0.692535\n",
       " -0.830634  -0.765176  -1.0          -0.716975  -1.0       -0.690415\n",
       " -0.827591  -0.766827  -0.82239      -0.718407  -0.756223  -0.688759\n",
       " -0.76538   -0.76032   -0.821323     -0.710068  -0.758478  -0.687374\n",
       " -0.767009  -0.758429  -0.771342  …  -0.705028  -0.737736  -0.686144\n",
       " -0.760089  -0.739284  -0.758809     -0.702359  -0.725768  -0.685013\n",
       " -0.73877   -0.733208  -0.757129     -0.702633  -0.708388  -0.684095\n",
       " -0.73935   -0.728065  -0.734372     -0.698728  -0.703151  -0.684127\n",
       " -0.733196  -0.727156  -0.731202     -0.696328  -0.703465  -0.683348\n",
       " -0.727955  -0.720718  -0.730598  …  -0.694309  -0.698145  -0.682623\n",
       " -0.720654  -0.716776  -0.724877     -0.692474  -0.69497   -0.681962\n",
       " -0.720726  -0.71362   -0.71613      -0.690705  -0.692509  -0.681359\n",
       "  ⋮                               ⋱                        \n",
       " -0.67057   -0.670293  -0.670496     -0.670747  -0.671999  -0.672293\n",
       " -0.670429  -0.670162  -0.670378     -0.670692  -0.671965  -0.67239\n",
       " -0.670294  -0.670034  -0.670262  …  -0.67064   -0.671935  -0.672756\n",
       " -0.670164  -0.669909  -0.670151     -0.670591  -0.671915  -0.672923\n",
       " -0.670035  -0.669785  -0.670043     -0.670545  -0.671907  -0.67328\n",
       " -0.669909  -0.669667  -0.669938     -0.670499  -0.671894  -0.674606\n",
       " -0.669787  -0.66955   -0.669964     -0.670457  -0.671935  -0.676417\n",
       " -0.669668  -0.669437  -0.669862  …  -0.670422  -0.671926  -0.67646\n",
       " -0.669552  -0.669453  -0.669763     -0.670395  -0.671961  -0.679652\n",
       " -0.669439  -0.669344  -0.669665     -0.670365  -0.672029  -0.689565\n",
       " -0.669329  -0.669239  -0.669572     -0.670336  -0.672065  -0.690541\n",
       " -0.669346  -0.669135  -0.669481     -0.670383  -0.672118  -0.689447"
      ]
     },
     "execution_count": 28,
     "metadata": {},
     "output_type": "execute_result"
    }
   ],
   "source": [
    "θ.θc[:,:,2]"
   ]
  },
  {
   "cell_type": "markdown",
   "metadata": {},
   "source": [
    "---\n",
    "\n",
    "Below, I'm going to output some stuff to plot things in python / matplot-lib. These figures are in the ``plot-micro-elasticity`` notebook"
   ]
  },
  {
   "cell_type": "code",
   "execution_count": 29,
   "metadata": {},
   "outputs": [],
   "source": [
    "θE = θ.θπ[:,:,2]  .- θ.θπii[:,:,2] \n",
    "\n",
    "θI = θ.θc[:,:,2]  .- θ.θcii[:,:,2] \n",
    "\n",
    "θtotal = 1.0 .+ θE .+ θI \n",
    "\n",
    "assets, shocks = get_asset_shock_state(dist.state_index, hh_prm);\n",
    "\n",
    "pcπ_by_state = get_trade(p, hh.cons_policy, hh.πprob, dist.state_index, hh_prm)[1]\n",
    "\n",
    "micro_trade = pcπ_by_state[:,2] ./ sum( pcπ_by_state, dims = 2);\n",
    "\n",
    "\n",
    "df = DataFrame(θE = θE[:], \n",
    "               θI = θI[:],\n",
    "               θ = θtotal[:],\n",
    "               ωij = ω[:,:,2][:],\n",
    "               ωii = ω[:,:,1][:],\n",
    "               trade = micro_trade[:], \n",
    "                shocks = shocks,\n",
    "                assets = assets\n",
    "               );\n",
    "\n",
    "rootfile = \"./output/\"\n",
    "\n",
    "root = rootfile*\"new-elasticity.csv\"\n",
    "\n",
    "CSV.write(root, df);"
   ]
  },
  {
   "cell_type": "markdown",
   "metadata": {},
   "source": [
    "### Assets\n",
    "\n",
    "This gives a sense of the distribution of assets in the model. Here the constraint is quite tight and with the permanent + transitory shocks there is a large number of constrained individuals in this economy. "
   ]
  },
  {
   "cell_type": "code",
   "execution_count": 30,
   "metadata": {},
   "outputs": [
    {
     "data": {
      "image/png": "[encoded data removed]",
      "image/svg+xml": [
       "<?xml version=\"1.0\" encoding=\"utf-8\"?>\n",
       "<svg xmlns=\"http://www.w3.org/2000/svg\" xmlns:xlink=\"http://www.w3.org/1999/xlink\" width=\"600\" height=\"400\" viewBox=\"0 0 2400 1600\">\n",
       "<defs>\n",
       "  <clipPath id=\"clip580\">\n",
       "    <rect x=\"0\" y=\"0\" width=\"2400\" height=\"1600\"/>\n",
       "  </clipPath>\n",
       "</defs>\n",
       "<path clip-path=\"url(#clip580)\" d=\"M0 1600 L2400 1600 L2400 0 L0 0  Z\" fill=\"#ffffff\" fill-rule=\"evenodd\" fill-opacity=\"1\"/>\n",
       "<defs>\n",
       "  <clipPath id=\"clip581\">\n",
       "    <rect x=\"480\" y=\"0\" width=\"1681\" height=\"1600\"/>\n",
       "  </clipPath>\n",
       "</defs>\n",
       "<path clip-path=\"url(#clip580)\" d=\"M249.542 1423.18 L2352.76 1423.18 L2352.76 47.2441 L249.542 47.2441  Z\" fill=\"#ffffff\" fill-rule=\"evenodd\" fill-opacity=\"1\"/>\n",
       "<defs>\n",
       "  <clipPath id=\"clip582\">\n",
       "    <rect x=\"249\" y=\"47\" width=\"2104\" height=\"1377\"/>\n",
       "  </clipPath>\n",
       "</defs>\n",
       "<polyline clip-path=\"url(#clip582)\" style=\"stroke:#000000; stroke-linecap:round; stroke-linejoin:round; stroke-width:2; stroke-opacity:0.1; fill:none\" points=\"425.782,1423.18 425.782,47.2441 \"/>\n",
       "<polyline clip-path=\"url(#clip582)\" style=\"stroke:#000000; stroke-linecap:round; stroke-linejoin:round; stroke-width:2; stroke-opacity:0.1; fill:none\" points=\"892.645,1423.18 892.645,47.2441 \"/>\n",
       "<polyline clip-path=\"url(#clip582)\" style=\"stroke:#000000; stroke-linecap:round; stroke-linejoin:round; stroke-width:2; stroke-opacity:0.1; fill:none\" points=\"1359.51,1423.18 1359.51,47.2441 \"/>\n",
       "<polyline clip-path=\"url(#clip582)\" style=\"stroke:#000000; stroke-linecap:round; stroke-linejoin:round; stroke-width:2; stroke-opacity:0.1; fill:none\" points=\"1826.37,1423.18 1826.37,47.2441 \"/>\n",
       "<polyline clip-path=\"url(#clip582)\" style=\"stroke:#000000; stroke-linecap:round; stroke-linejoin:round; stroke-width:2; stroke-opacity:0.1; fill:none\" points=\"2293.23,1423.18 2293.23,47.2441 \"/>\n",
       "<polyline clip-path=\"url(#clip580)\" style=\"stroke:#000000; stroke-linecap:round; stroke-linejoin:round; stroke-width:4; stroke-opacity:1; fill:none\" points=\"249.542,1423.18 2352.76,1423.18 \"/>\n",
       "<polyline clip-path=\"url(#clip580)\" style=\"stroke:#000000; stroke-linecap:round; stroke-linejoin:round; stroke-width:4; stroke-opacity:1; fill:none\" points=\"425.782,1423.18 425.782,1404.28 \"/>\n",
       "<polyline clip-path=\"url(#clip580)\" style=\"stroke:#000000; stroke-linecap:round; stroke-linejoin:round; stroke-width:4; stroke-opacity:1; fill:none\" points=\"892.645,1423.18 892.645,1404.28 \"/>\n",
       "<polyline clip-path=\"url(#clip580)\" style=\"stroke:#000000; stroke-linecap:round; stroke-linejoin:round; stroke-width:4; stroke-opacity:1; fill:none\" points=\"1359.51,1423.18 1359.51,1404.28 \"/>\n",
       "<polyline clip-path=\"url(#clip580)\" style=\"stroke:#000000; stroke-linecap:round; stroke-linejoin:round; stroke-width:4; stroke-opacity:1; fill:none\" points=\"1826.37,1423.18 1826.37,1404.28 \"/>\n",
       "<polyline clip-path=\"url(#clip580)\" style=\"stroke:#000000; stroke-linecap:round; stroke-linejoin:round; stroke-width:4; stroke-opacity:1; fill:none\" points=\"2293.23,1423.18 2293.23,1404.28 \"/>\n",
       "<path clip-path=\"url(#clip580)\" d=\"M425.782 1454.1 Q422.171 1454.1 420.343 1457.66 Q418.537 1461.2 418.537 1468.33 Q418.537 1475.44 420.343 1479.01 Q422.171 1482.55 425.782 1482.55 Q429.417 1482.55 431.222 1479.01 Q433.051 1475.44 433.051 1468.33 Q433.051 1461.2 431.222 1457.66 Q429.417 1454.1 425.782 1454.1 M425.782 1450.39 Q431.593 1450.39 434.648 1455 Q437.727 1459.58 437.727 1468.33 Q437.727 1477.06 434.648 1481.67 Q431.593 1486.25 425.782 1486.25 Q419.972 1486.25 416.894 1481.67 Q413.838 1477.06 413.838 1468.33 Q413.838 1459.58 416.894 1455 Q419.972 1450.39 425.782 1450.39 Z\" fill=\"#000000\" fill-rule=\"nonzero\" fill-opacity=\"1\" /><path clip-path=\"url(#clip580)\" d=\"M887.297 1481.64 L903.617 1481.64 L903.617 1485.58 L881.672 1485.58 L881.672 1481.64 Q884.334 1478.89 888.918 1474.26 Q893.524 1469.61 894.705 1468.27 Q896.95 1465.74 897.83 1464.01 Q898.733 1462.25 898.733 1460.56 Q898.733 1457.8 896.788 1456.07 Q894.867 1454.33 891.765 1454.33 Q889.566 1454.33 887.112 1455.09 Q884.682 1455.86 881.904 1457.41 L881.904 1452.69 Q884.728 1451.55 887.182 1450.97 Q889.635 1450.39 891.672 1450.39 Q897.043 1450.39 900.237 1453.08 Q903.432 1455.77 903.432 1460.26 Q903.432 1462.39 902.621 1464.31 Q901.834 1466.2 899.728 1468.8 Q899.149 1469.47 896.047 1472.69 Q892.946 1475.88 887.297 1481.64 Z\" fill=\"#000000\" fill-rule=\"nonzero\" fill-opacity=\"1\" /><path clip-path=\"url(#clip580)\" d=\"M1362.52 1455.09 L1350.71 1473.54 L1362.52 1473.54 L1362.52 1455.09 M1361.29 1451.02 L1367.17 1451.02 L1367.17 1473.54 L1372.1 1473.54 L1372.1 1477.43 L1367.17 1477.43 L1367.17 1485.58 L1362.52 1485.58 L1362.52 1477.43 L1346.91 1477.43 L1346.91 1472.92 L1361.29 1451.02 Z\" fill=\"#000000\" fill-rule=\"nonzero\" fill-opacity=\"1\" /><path clip-path=\"url(#clip580)\" d=\"M1826.77 1466.44 Q1823.63 1466.44 1821.77 1468.59 Q1819.95 1470.74 1819.95 1474.49 Q1819.95 1478.22 1821.77 1480.39 Q1823.63 1482.55 1826.77 1482.55 Q1829.92 1482.55 1831.75 1480.39 Q1833.6 1478.22 1833.6 1474.49 Q1833.6 1470.74 1831.75 1468.59 Q1829.92 1466.44 1826.77 1466.44 M1836.06 1451.78 L1836.06 1456.04 Q1834.3 1455.21 1832.49 1454.77 Q1830.71 1454.33 1828.95 1454.33 Q1824.32 1454.33 1821.87 1457.45 Q1819.44 1460.58 1819.09 1466.9 Q1820.45 1464.89 1822.51 1463.82 Q1824.57 1462.73 1827.05 1462.73 Q1832.26 1462.73 1835.27 1465.9 Q1838.3 1469.05 1838.3 1474.49 Q1838.3 1479.82 1835.15 1483.03 Q1832.01 1486.25 1826.77 1486.25 Q1820.78 1486.25 1817.61 1481.67 Q1814.44 1477.06 1814.44 1468.33 Q1814.44 1460.14 1818.32 1455.28 Q1822.21 1450.39 1828.76 1450.39 Q1830.52 1450.39 1832.31 1450.74 Q1834.11 1451.09 1836.06 1451.78 Z\" fill=\"#000000\" fill-rule=\"nonzero\" fill-opacity=\"1\" /><path clip-path=\"url(#clip580)\" d=\"M2293.23 1469.17 Q2289.9 1469.17 2287.98 1470.95 Q2286.08 1472.73 2286.08 1475.86 Q2286.08 1478.98 2287.98 1480.77 Q2289.9 1482.55 2293.23 1482.55 Q2296.56 1482.55 2298.49 1480.77 Q2300.41 1478.96 2300.41 1475.86 Q2300.41 1472.73 2298.49 1470.95 Q2296.59 1469.17 2293.23 1469.17 M2288.56 1467.18 Q2285.55 1466.44 2283.86 1464.38 Q2282.19 1462.32 2282.19 1459.35 Q2282.19 1455.21 2285.13 1452.8 Q2288.09 1450.39 2293.23 1450.39 Q2298.39 1450.39 2301.33 1452.8 Q2304.27 1455.21 2304.27 1459.35 Q2304.27 1462.32 2302.58 1464.38 Q2300.92 1466.44 2297.93 1467.18 Q2301.31 1467.96 2303.18 1470.26 Q2305.08 1472.55 2305.08 1475.86 Q2305.08 1480.88 2302 1483.57 Q2298.95 1486.25 2293.23 1486.25 Q2287.51 1486.25 2284.43 1483.57 Q2281.38 1480.88 2281.38 1475.86 Q2281.38 1472.55 2283.28 1470.26 Q2285.18 1467.96 2288.56 1467.18 M2286.84 1459.79 Q2286.84 1462.48 2288.51 1463.98 Q2290.2 1465.49 2293.23 1465.49 Q2296.24 1465.49 2297.93 1463.98 Q2299.64 1462.48 2299.64 1459.79 Q2299.64 1457.11 2297.93 1455.6 Q2296.24 1454.1 2293.23 1454.1 Q2290.2 1454.1 2288.51 1455.6 Q2286.84 1457.11 2286.84 1459.79 Z\" fill=\"#000000\" fill-rule=\"nonzero\" fill-opacity=\"1\" /><path clip-path=\"url(#clip580)\" d=\"M851.173 1526.86 L842.452 1550.51 L859.926 1550.51 L851.173 1526.86 M847.545 1520.52 L854.833 1520.52 L872.944 1568.04 L866.26 1568.04 L861.931 1555.85 L840.511 1555.85 L836.182 1568.04 L829.402 1568.04 L847.545 1520.52 Z\" fill=\"#000000\" fill-rule=\"nonzero\" fill-opacity=\"1\" /><path clip-path=\"url(#clip580)\" d=\"M902.353 1533.45 L902.353 1538.98 Q899.871 1537.71 897.197 1537.07 Q894.524 1536.44 891.659 1536.44 Q887.298 1536.44 885.102 1537.77 Q882.938 1539.11 882.938 1541.79 Q882.938 1543.82 884.498 1545 Q886.057 1546.15 890.768 1547.2 L892.773 1547.64 Q899.011 1548.98 901.621 1551.43 Q904.263 1553.85 904.263 1558.21 Q904.263 1563.17 900.316 1566.07 Q896.401 1568.97 889.526 1568.97 Q886.662 1568.97 883.543 1568.39 Q880.455 1567.85 877.018 1566.74 L877.018 1560.69 Q880.264 1562.38 883.415 1563.24 Q886.566 1564.07 889.654 1564.07 Q893.791 1564.07 896.019 1562.66 Q898.247 1561.23 898.247 1558.65 Q898.247 1556.27 896.624 1554.99 Q895.033 1553.72 889.59 1552.54 L887.553 1552.07 Q882.11 1550.92 879.691 1548.56 Q877.272 1546.18 877.272 1542.04 Q877.272 1537.01 880.837 1534.27 Q884.402 1531.54 890.959 1531.54 Q894.205 1531.54 897.07 1532.01 Q899.934 1532.49 902.353 1533.45 Z\" fill=\"#000000\" fill-rule=\"nonzero\" fill-opacity=\"1\" /><path clip-path=\"url(#clip580)\" d=\"M936.314 1533.45 L936.314 1538.98 Q933.832 1537.71 931.158 1537.07 Q928.485 1536.44 925.62 1536.44 Q921.26 1536.44 919.063 1537.77 Q916.899 1539.11 916.899 1541.79 Q916.899 1543.82 918.459 1545 Q920.018 1546.15 924.729 1547.2 L926.734 1547.64 Q932.972 1548.98 935.582 1551.43 Q938.224 1553.85 938.224 1558.21 Q938.224 1563.17 934.277 1566.07 Q930.362 1568.97 923.488 1568.97 Q920.623 1568.97 917.504 1568.39 Q914.416 1567.85 910.979 1566.74 L910.979 1560.69 Q914.225 1562.38 917.376 1563.24 Q920.527 1564.07 923.615 1564.07 Q927.753 1564.07 929.981 1562.66 Q932.209 1561.23 932.209 1558.65 Q932.209 1556.27 930.585 1554.99 Q928.994 1553.72 923.551 1552.54 L921.514 1552.07 Q916.071 1550.92 913.652 1548.56 Q911.234 1546.18 911.234 1542.04 Q911.234 1537.01 914.798 1534.27 Q918.363 1531.54 924.92 1531.54 Q928.166 1531.54 931.031 1532.01 Q933.895 1532.49 936.314 1533.45 Z\" fill=\"#000000\" fill-rule=\"nonzero\" fill-opacity=\"1\" /><path clip-path=\"url(#clip580)\" d=\"M978.042 1548.76 L978.042 1551.62 L951.115 1551.62 Q951.497 1557.67 954.743 1560.85 Q958.021 1564 963.846 1564 Q967.22 1564 970.371 1563.17 Q973.554 1562.35 976.673 1560.69 L976.673 1566.23 Q973.522 1567.57 970.212 1568.27 Q966.902 1568.97 963.496 1568.97 Q954.966 1568.97 949.969 1564 Q945.004 1559.04 945.004 1550.57 Q945.004 1541.82 949.714 1536.69 Q954.457 1531.54 962.477 1531.54 Q969.671 1531.54 973.84 1536.18 Q978.042 1540.8 978.042 1548.76 M972.185 1547.04 Q972.122 1542.23 969.48 1539.37 Q966.87 1536.5 962.541 1536.5 Q957.64 1536.5 954.679 1539.27 Q951.751 1542.04 951.306 1547.07 L972.185 1547.04 Z\" fill=\"#000000\" fill-rule=\"nonzero\" fill-opacity=\"1\" /><path clip-path=\"url(#clip580)\" d=\"M993.447 1522.27 L993.447 1532.4 L1005.51 1532.4 L1005.51 1536.95 L993.447 1536.95 L993.447 1556.3 Q993.447 1560.66 994.624 1561.9 Q995.834 1563.14 999.494 1563.14 L1005.51 1563.14 L1005.51 1568.04 L999.494 1568.04 Q992.715 1568.04 990.136 1565.53 Q987.558 1562.98 987.558 1556.3 L987.558 1536.95 L983.261 1536.95 L983.261 1532.4 L987.558 1532.4 L987.558 1522.27 L993.447 1522.27 Z\" fill=\"#000000\" fill-rule=\"nonzero\" fill-opacity=\"1\" /><path clip-path=\"url(#clip580)\" d=\"M1034.19 1520.52 L1040.62 1520.52 L1040.62 1540 L1063.98 1540 L1063.98 1520.52 L1070.41 1520.52 L1070.41 1568.04 L1063.98 1568.04 L1063.98 1545.41 L1040.62 1545.41 L1040.62 1568.04 L1034.19 1568.04 L1034.19 1520.52 Z\" fill=\"#000000\" fill-rule=\"nonzero\" fill-opacity=\"1\" /><path clip-path=\"url(#clip580)\" d=\"M1096.76 1536.5 Q1092.05 1536.5 1089.31 1540.19 Q1086.58 1543.85 1086.58 1550.25 Q1086.58 1556.65 1089.28 1560.34 Q1092.02 1564 1096.76 1564 Q1101.44 1564 1104.18 1560.31 Q1106.92 1556.62 1106.92 1550.25 Q1106.92 1543.92 1104.18 1540.23 Q1101.44 1536.5 1096.76 1536.5 M1096.76 1531.54 Q1104.4 1531.54 1108.76 1536.5 Q1113.12 1541.47 1113.12 1550.25 Q1113.12 1559 1108.76 1564 Q1104.4 1568.97 1096.76 1568.97 Q1089.09 1568.97 1084.73 1564 Q1080.4 1559 1080.4 1550.25 Q1080.4 1541.47 1084.73 1536.5 Q1089.09 1531.54 1096.76 1531.54 Z\" fill=\"#000000\" fill-rule=\"nonzero\" fill-opacity=\"1\" /><path clip-path=\"url(#clip580)\" d=\"M1122.83 1518.52 L1128.69 1518.52 L1128.69 1568.04 L1122.83 1568.04 L1122.83 1518.52 Z\" fill=\"#000000\" fill-rule=\"nonzero\" fill-opacity=\"1\" /><path clip-path=\"url(#clip580)\" d=\"M1164.4 1537.81 L1164.4 1518.52 L1170.25 1518.52 L1170.25 1568.04 L1164.4 1568.04 L1164.4 1562.7 Q1162.55 1565.88 1159.72 1567.44 Q1156.92 1568.97 1152.97 1568.97 Q1146.51 1568.97 1142.44 1563.81 Q1138.39 1558.65 1138.39 1550.25 Q1138.39 1541.85 1142.44 1536.69 Q1146.51 1531.54 1152.97 1531.54 Q1156.92 1531.54 1159.72 1533.1 Q1162.55 1534.62 1164.4 1537.81 M1144.44 1550.25 Q1144.44 1556.71 1147.08 1560.4 Q1149.76 1564.07 1154.4 1564.07 Q1159.05 1564.07 1161.72 1560.4 Q1164.4 1556.71 1164.4 1550.25 Q1164.4 1543.79 1161.72 1540.13 Q1159.05 1536.44 1154.4 1536.44 Q1149.76 1536.44 1147.08 1540.13 Q1144.44 1543.79 1144.44 1550.25 Z\" fill=\"#000000\" fill-rule=\"nonzero\" fill-opacity=\"1\" /><path clip-path=\"url(#clip580)\" d=\"M1182.32 1532.4 L1188.17 1532.4 L1188.17 1568.04 L1182.32 1568.04 L1182.32 1532.4 M1182.32 1518.52 L1188.17 1518.52 L1188.17 1525.93 L1182.32 1525.93 L1182.32 1518.52 Z\" fill=\"#000000\" fill-rule=\"nonzero\" fill-opacity=\"1\" /><path clip-path=\"url(#clip580)\" d=\"M1230.06 1546.53 L1230.06 1568.04 L1224.2 1568.04 L1224.2 1546.72 Q1224.2 1541.66 1222.23 1539.14 Q1220.26 1536.63 1216.31 1536.63 Q1211.57 1536.63 1208.83 1539.65 Q1206.09 1542.68 1206.09 1547.9 L1206.09 1568.04 L1200.2 1568.04 L1200.2 1532.4 L1206.09 1532.4 L1206.09 1537.93 Q1208.19 1534.72 1211.03 1533.13 Q1213.89 1531.54 1217.61 1531.54 Q1223.76 1531.54 1226.91 1535.36 Q1230.06 1539.14 1230.06 1546.53 Z\" fill=\"#000000\" fill-rule=\"nonzero\" fill-opacity=\"1\" /><path clip-path=\"url(#clip580)\" d=\"M1265.2 1549.81 Q1265.2 1543.44 1262.56 1539.94 Q1259.95 1536.44 1255.2 1536.44 Q1250.49 1536.44 1247.85 1539.94 Q1245.24 1543.44 1245.24 1549.81 Q1245.24 1556.14 1247.85 1559.64 Q1250.49 1563.14 1255.2 1563.14 Q1259.95 1563.14 1262.56 1559.64 Q1265.2 1556.14 1265.2 1549.81 M1271.06 1563.62 Q1271.06 1572.72 1267.01 1577.15 Q1262.97 1581.6 1254.63 1581.6 Q1251.54 1581.6 1248.81 1581.13 Q1246.07 1580.68 1243.49 1579.72 L1243.49 1574.03 Q1246.07 1575.43 1248.58 1576.1 Q1251.1 1576.76 1253.71 1576.76 Q1259.47 1576.76 1262.33 1573.74 Q1265.2 1570.75 1265.2 1564.67 L1265.2 1561.77 Q1263.38 1564.92 1260.55 1566.48 Q1257.72 1568.04 1253.77 1568.04 Q1247.22 1568.04 1243.21 1563.05 Q1239.19 1558.05 1239.19 1549.81 Q1239.19 1541.53 1243.21 1536.53 Q1247.22 1531.54 1253.77 1531.54 Q1257.72 1531.54 1260.55 1533.1 Q1263.38 1534.66 1265.2 1537.81 L1265.2 1532.4 L1271.06 1532.4 L1271.06 1563.62 Z\" fill=\"#000000\" fill-rule=\"nonzero\" fill-opacity=\"1\" /><path clip-path=\"url(#clip580)\" d=\"M1305.84 1533.45 L1305.84 1538.98 Q1303.36 1537.71 1300.69 1537.07 Q1298.01 1536.44 1295.15 1536.44 Q1290.79 1536.44 1288.59 1537.77 Q1286.43 1539.11 1286.43 1541.79 Q1286.43 1543.82 1287.99 1545 Q1289.55 1546.15 1294.26 1547.2 L1296.26 1547.64 Q1302.5 1548.98 1305.11 1551.43 Q1307.75 1553.85 1307.75 1558.21 Q1307.75 1563.17 1303.81 1566.07 Q1299.89 1568.97 1293.02 1568.97 Q1290.15 1568.97 1287.03 1568.39 Q1283.95 1567.85 1280.51 1566.74 L1280.51 1560.69 Q1283.75 1562.38 1286.91 1563.24 Q1290.06 1564.07 1293.14 1564.07 Q1297.28 1564.07 1299.51 1562.66 Q1301.74 1561.23 1301.74 1558.65 Q1301.74 1556.27 1300.11 1554.99 Q1298.52 1553.72 1293.08 1552.54 L1291.04 1552.07 Q1285.6 1550.92 1283.18 1548.56 Q1280.76 1546.18 1280.76 1542.04 Q1280.76 1537.01 1284.33 1534.27 Q1287.89 1531.54 1294.45 1531.54 Q1297.7 1531.54 1300.56 1532.01 Q1303.42 1532.49 1305.84 1533.45 Z\" fill=\"#000000\" fill-rule=\"nonzero\" fill-opacity=\"1\" /><path clip-path=\"url(#clip580)\" d=\"M1348.21 1520.52 L1353.62 1520.52 L1337.07 1574.09 L1331.66 1574.09 L1348.21 1520.52 Z\" fill=\"#000000\" fill-rule=\"nonzero\" fill-opacity=\"1\" /><path clip-path=\"url(#clip580)\" d=\"M1396.62 1526.86 L1387.9 1550.51 L1405.37 1550.51 L1396.62 1526.86 M1392.99 1520.52 L1400.28 1520.52 L1418.39 1568.04 L1411.71 1568.04 L1407.38 1555.85 L1385.96 1555.85 L1381.63 1568.04 L1374.85 1568.04 L1392.99 1520.52 Z\" fill=\"#000000\" fill-rule=\"nonzero\" fill-opacity=\"1\" /><path clip-path=\"url(#clip580)\" d=\"M1417.05 1532.4 L1423.26 1532.4 L1434.4 1562.31 L1445.54 1532.4 L1451.75 1532.4 L1438.38 1568.04 L1430.42 1568.04 L1417.05 1532.4 Z\" fill=\"#000000\" fill-rule=\"nonzero\" fill-opacity=\"1\" /><path clip-path=\"url(#clip580)\" d=\"M1483.29 1549.81 Q1483.29 1543.44 1480.65 1539.94 Q1478.04 1536.44 1473.29 1536.44 Q1468.58 1536.44 1465.94 1539.94 Q1463.33 1543.44 1463.33 1549.81 Q1463.33 1556.14 1465.94 1559.64 Q1468.58 1563.14 1473.29 1563.14 Q1478.04 1563.14 1480.65 1559.64 Q1483.29 1556.14 1483.29 1549.81 M1489.14 1563.62 Q1489.14 1572.72 1485.1 1577.15 Q1481.06 1581.6 1472.72 1581.6 Q1469.63 1581.6 1466.9 1581.13 Q1464.16 1580.68 1461.58 1579.72 L1461.58 1574.03 Q1464.16 1575.43 1466.67 1576.1 Q1469.19 1576.76 1471.8 1576.76 Q1477.56 1576.76 1480.42 1573.74 Q1483.29 1570.75 1483.29 1564.67 L1483.29 1561.77 Q1481.47 1564.92 1478.64 1566.48 Q1475.81 1568.04 1471.86 1568.04 Q1465.3 1568.04 1461.29 1563.05 Q1457.28 1558.05 1457.28 1549.81 Q1457.28 1541.53 1461.29 1536.53 Q1465.3 1531.54 1471.86 1531.54 Q1475.81 1531.54 1478.64 1533.1 Q1481.47 1534.66 1483.29 1537.81 L1483.29 1532.4 L1489.14 1532.4 L1489.14 1563.62 Z\" fill=\"#000000\" fill-rule=\"nonzero\" fill-opacity=\"1\" /><path clip-path=\"url(#clip580)\" d=\"M1502.03 1559.96 L1508.75 1559.96 L1508.75 1568.04 L1502.03 1568.04 L1502.03 1559.96 Z\" fill=\"#000000\" fill-rule=\"nonzero\" fill-opacity=\"1\" /><path clip-path=\"url(#clip580)\" d=\"M1542.9 1520.52 L1549.33 1520.52 L1549.33 1568.04 L1542.9 1568.04 L1542.9 1520.52 Z\" fill=\"#000000\" fill-rule=\"nonzero\" fill-opacity=\"1\" /><path clip-path=\"url(#clip580)\" d=\"M1591.5 1546.53 L1591.5 1568.04 L1585.65 1568.04 L1585.65 1546.72 Q1585.65 1541.66 1583.67 1539.14 Q1581.7 1536.63 1577.75 1536.63 Q1573.01 1536.63 1570.28 1539.65 Q1567.54 1542.68 1567.54 1547.9 L1567.54 1568.04 L1561.65 1568.04 L1561.65 1532.4 L1567.54 1532.4 L1567.54 1537.93 Q1569.64 1534.72 1572.47 1533.13 Q1575.34 1531.54 1579.06 1531.54 Q1585.2 1531.54 1588.35 1535.36 Q1591.5 1539.14 1591.5 1546.53 Z\" fill=\"#000000\" fill-rule=\"nonzero\" fill-opacity=\"1\" /><path clip-path=\"url(#clip580)\" d=\"M1628.84 1533.76 L1628.84 1539.24 Q1626.36 1537.87 1623.84 1537.2 Q1621.36 1536.5 1618.81 1536.5 Q1613.12 1536.5 1609.97 1540.13 Q1606.81 1543.73 1606.81 1550.25 Q1606.81 1556.78 1609.97 1560.4 Q1613.12 1564 1618.81 1564 Q1621.36 1564 1623.84 1563.33 Q1626.36 1562.63 1628.84 1561.26 L1628.84 1566.68 Q1626.39 1567.82 1623.75 1568.39 Q1621.14 1568.97 1618.18 1568.97 Q1610.12 1568.97 1605.38 1563.91 Q1600.64 1558.85 1600.64 1550.25 Q1600.64 1541.53 1605.41 1536.53 Q1610.22 1531.54 1618.56 1531.54 Q1621.26 1531.54 1623.84 1532.11 Q1626.42 1532.65 1628.84 1533.76 Z\" fill=\"#000000\" fill-rule=\"nonzero\" fill-opacity=\"1\" /><path clip-path=\"url(#clip580)\" d=\"M1652.84 1536.5 Q1648.13 1536.5 1645.39 1540.19 Q1642.65 1543.85 1642.65 1550.25 Q1642.65 1556.65 1645.36 1560.34 Q1648.1 1564 1652.84 1564 Q1657.52 1564 1660.25 1560.31 Q1662.99 1556.62 1662.99 1550.25 Q1662.99 1543.92 1660.25 1540.23 Q1657.52 1536.5 1652.84 1536.5 M1652.84 1531.54 Q1660.48 1531.54 1664.84 1536.5 Q1669.2 1541.47 1669.2 1550.25 Q1669.2 1559 1664.84 1564 Q1660.48 1568.97 1652.84 1568.97 Q1645.17 1568.97 1640.81 1564 Q1636.48 1559 1636.48 1550.25 Q1636.48 1541.47 1640.81 1536.5 Q1645.17 1531.54 1652.84 1531.54 Z\" fill=\"#000000\" fill-rule=\"nonzero\" fill-opacity=\"1\" /><path clip-path=\"url(#clip580)\" d=\"M1706.66 1539.24 Q1708.86 1535.29 1711.91 1533.41 Q1714.97 1531.54 1719.11 1531.54 Q1724.68 1531.54 1727.7 1535.45 Q1730.72 1539.33 1730.72 1546.53 L1730.72 1568.04 L1724.83 1568.04 L1724.83 1546.72 Q1724.83 1541.59 1723.02 1539.11 Q1721.21 1536.63 1717.48 1536.63 Q1712.93 1536.63 1710.29 1539.65 Q1707.65 1542.68 1707.65 1547.9 L1707.65 1568.04 L1701.76 1568.04 L1701.76 1546.72 Q1701.76 1541.56 1699.94 1539.11 Q1698.13 1536.63 1694.34 1536.63 Q1689.85 1536.63 1687.21 1539.68 Q1684.57 1542.71 1684.57 1547.9 L1684.57 1568.04 L1678.68 1568.04 L1678.68 1532.4 L1684.57 1532.4 L1684.57 1537.93 Q1686.58 1534.66 1689.38 1533.1 Q1692.18 1531.54 1696.03 1531.54 Q1699.91 1531.54 1702.62 1533.51 Q1705.36 1535.48 1706.66 1539.24 Z\" fill=\"#000000\" fill-rule=\"nonzero\" fill-opacity=\"1\" /><path clip-path=\"url(#clip580)\" d=\"M1772.9 1548.76 L1772.9 1551.62 L1745.97 1551.62 Q1746.35 1557.67 1749.6 1560.85 Q1752.88 1564 1758.7 1564 Q1762.07 1564 1765.22 1563.17 Q1768.41 1562.35 1771.53 1560.69 L1771.53 1566.23 Q1768.38 1567.57 1765.07 1568.27 Q1761.76 1568.97 1758.35 1568.97 Q1749.82 1568.97 1744.82 1564 Q1739.86 1559.04 1739.86 1550.57 Q1739.86 1541.82 1744.57 1536.69 Q1749.31 1531.54 1757.33 1531.54 Q1764.52 1531.54 1768.69 1536.18 Q1772.9 1540.8 1772.9 1548.76 M1767.04 1547.04 Q1766.98 1542.23 1764.33 1539.37 Q1761.72 1536.5 1757.4 1536.5 Q1752.49 1536.5 1749.53 1539.27 Q1746.61 1542.04 1746.16 1547.07 L1767.04 1547.04 Z\" fill=\"#000000\" fill-rule=\"nonzero\" fill-opacity=\"1\" /><polyline clip-path=\"url(#clip582)\" style=\"stroke:#000000; stroke-linecap:round; stroke-linejoin:round; stroke-width:2; stroke-opacity:0.1; fill:none\" points=\"249.542,1384.24 2352.76,1384.24 \"/>\n",
       "<polyline clip-path=\"url(#clip582)\" style=\"stroke:#000000; stroke-linecap:round; stroke-linejoin:round; stroke-width:2; stroke-opacity:0.1; fill:none\" points=\"249.542,1102.7 2352.76,1102.7 \"/>\n",
       "<polyline clip-path=\"url(#clip582)\" style=\"stroke:#000000; stroke-linecap:round; stroke-linejoin:round; stroke-width:2; stroke-opacity:0.1; fill:none\" points=\"249.542,821.154 2352.76,821.154 \"/>\n",
       "<polyline clip-path=\"url(#clip582)\" style=\"stroke:#000000; stroke-linecap:round; stroke-linejoin:round; stroke-width:2; stroke-opacity:0.1; fill:none\" points=\"249.542,539.612 2352.76,539.612 \"/>\n",
       "<polyline clip-path=\"url(#clip582)\" style=\"stroke:#000000; stroke-linecap:round; stroke-linejoin:round; stroke-width:2; stroke-opacity:0.1; fill:none\" points=\"249.542,258.07 2352.76,258.07 \"/>\n",
       "<polyline clip-path=\"url(#clip580)\" style=\"stroke:#000000; stroke-linecap:round; stroke-linejoin:round; stroke-width:4; stroke-opacity:1; fill:none\" points=\"249.542,1423.18 249.542,47.2441 \"/>\n",
       "<polyline clip-path=\"url(#clip580)\" style=\"stroke:#000000; stroke-linecap:round; stroke-linejoin:round; stroke-width:4; stroke-opacity:1; fill:none\" points=\"249.542,1384.24 268.44,1384.24 \"/>\n",
       "<polyline clip-path=\"url(#clip580)\" style=\"stroke:#000000; stroke-linecap:round; stroke-linejoin:round; stroke-width:4; stroke-opacity:1; fill:none\" points=\"249.542,1102.7 268.44,1102.7 \"/>\n",
       "<polyline clip-path=\"url(#clip580)\" style=\"stroke:#000000; stroke-linecap:round; stroke-linejoin:round; stroke-width:4; stroke-opacity:1; fill:none\" points=\"249.542,821.154 268.44,821.154 \"/>\n",
       "<polyline clip-path=\"url(#clip580)\" style=\"stroke:#000000; stroke-linecap:round; stroke-linejoin:round; stroke-width:4; stroke-opacity:1; fill:none\" points=\"249.542,539.612 268.44,539.612 \"/>\n",
       "<polyline clip-path=\"url(#clip580)\" style=\"stroke:#000000; stroke-linecap:round; stroke-linejoin:round; stroke-width:4; stroke-opacity:1; fill:none\" points=\"249.542,258.07 268.44,258.07 \"/>\n",
       "<path clip-path=\"url(#clip580)\" d=\"M126.205 1370.04 Q122.593 1370.04 120.765 1373.6 Q118.959 1377.14 118.959 1384.27 Q118.959 1391.38 120.765 1394.94 Q122.593 1398.49 126.205 1398.49 Q129.839 1398.49 131.644 1394.94 Q133.473 1391.38 133.473 1384.27 Q133.473 1377.14 131.644 1373.6 Q129.839 1370.04 126.205 1370.04 M126.205 1366.33 Q132.015 1366.33 135.07 1370.94 Q138.149 1375.52 138.149 1384.27 Q138.149 1393 135.07 1397.61 Q132.015 1402.19 126.205 1402.19 Q120.394 1402.19 117.316 1397.61 Q114.26 1393 114.26 1384.27 Q114.26 1375.52 117.316 1370.94 Q120.394 1366.33 126.205 1366.33 Z\" fill=\"#000000\" fill-rule=\"nonzero\" fill-opacity=\"1\" /><path clip-path=\"url(#clip580)\" d=\"M146.366 1395.64 L151.251 1395.64 L151.251 1401.52 L146.366 1401.52 L146.366 1395.64 Z\" fill=\"#000000\" fill-rule=\"nonzero\" fill-opacity=\"1\" /><path clip-path=\"url(#clip580)\" d=\"M171.436 1370.04 Q167.825 1370.04 165.996 1373.6 Q164.19 1377.14 164.19 1384.27 Q164.19 1391.38 165.996 1394.94 Q167.825 1398.49 171.436 1398.49 Q175.07 1398.49 176.876 1394.94 Q178.704 1391.38 178.704 1384.27 Q178.704 1377.14 176.876 1373.6 Q175.07 1370.04 171.436 1370.04 M171.436 1366.33 Q177.246 1366.33 180.301 1370.94 Q183.38 1375.52 183.38 1384.27 Q183.38 1393 180.301 1397.61 Q177.246 1402.19 171.436 1402.19 Q165.626 1402.19 162.547 1397.61 Q159.491 1393 159.491 1384.27 Q159.491 1375.52 162.547 1370.94 Q165.626 1366.33 171.436 1366.33 Z\" fill=\"#000000\" fill-rule=\"nonzero\" fill-opacity=\"1\" /><path clip-path=\"url(#clip580)\" d=\"M201.598 1370.04 Q197.987 1370.04 196.158 1373.6 Q194.352 1377.14 194.352 1384.27 Q194.352 1391.38 196.158 1394.94 Q197.987 1398.49 201.598 1398.49 Q205.232 1398.49 207.037 1394.94 Q208.866 1391.38 208.866 1384.27 Q208.866 1377.14 207.037 1373.6 Q205.232 1370.04 201.598 1370.04 M201.598 1366.33 Q207.408 1366.33 210.463 1370.94 Q213.542 1375.52 213.542 1384.27 Q213.542 1393 210.463 1397.61 Q207.408 1402.19 201.598 1402.19 Q195.787 1402.19 192.709 1397.61 Q189.653 1393 189.653 1384.27 Q189.653 1375.52 192.709 1370.94 Q195.787 1366.33 201.598 1366.33 Z\" fill=\"#000000\" fill-rule=\"nonzero\" fill-opacity=\"1\" /><path clip-path=\"url(#clip580)\" d=\"M127.2 1088.5 Q123.589 1088.5 121.76 1092.06 Q119.955 1095.6 119.955 1102.73 Q119.955 1109.84 121.76 1113.4 Q123.589 1116.94 127.2 1116.94 Q130.834 1116.94 132.64 1113.4 Q134.468 1109.84 134.468 1102.73 Q134.468 1095.6 132.64 1092.06 Q130.834 1088.5 127.2 1088.5 M127.2 1084.79 Q133.01 1084.79 136.066 1089.4 Q139.144 1093.98 139.144 1102.73 Q139.144 1111.46 136.066 1116.06 Q133.01 1120.65 127.2 1120.65 Q121.39 1120.65 118.311 1116.06 Q115.256 1111.46 115.256 1102.73 Q115.256 1093.98 118.311 1089.4 Q121.39 1084.79 127.2 1084.79 Z\" fill=\"#000000\" fill-rule=\"nonzero\" fill-opacity=\"1\" /><path clip-path=\"url(#clip580)\" d=\"M147.362 1114.1 L152.246 1114.1 L152.246 1119.98 L147.362 1119.98 L147.362 1114.1 Z\" fill=\"#000000\" fill-rule=\"nonzero\" fill-opacity=\"1\" /><path clip-path=\"url(#clip580)\" d=\"M172.431 1088.5 Q168.82 1088.5 166.991 1092.06 Q165.186 1095.6 165.186 1102.73 Q165.186 1109.84 166.991 1113.4 Q168.82 1116.94 172.431 1116.94 Q176.065 1116.94 177.871 1113.4 Q179.7 1109.84 179.7 1102.73 Q179.7 1095.6 177.871 1092.06 Q176.065 1088.5 172.431 1088.5 M172.431 1084.79 Q178.241 1084.79 181.297 1089.4 Q184.376 1093.98 184.376 1102.73 Q184.376 1111.46 181.297 1116.06 Q178.241 1120.65 172.431 1120.65 Q166.621 1120.65 163.542 1116.06 Q160.487 1111.46 160.487 1102.73 Q160.487 1093.98 163.542 1089.4 Q166.621 1084.79 172.431 1084.79 Z\" fill=\"#000000\" fill-rule=\"nonzero\" fill-opacity=\"1\" /><path clip-path=\"url(#clip580)\" d=\"M192.639 1085.42 L210.996 1085.42 L210.996 1089.35 L196.922 1089.35 L196.922 1097.82 Q197.94 1097.48 198.959 1097.31 Q199.977 1097.13 200.996 1097.13 Q206.783 1097.13 210.162 1100.3 Q213.542 1103.47 213.542 1108.89 Q213.542 1114.47 210.07 1117.57 Q206.598 1120.65 200.278 1120.65 Q198.102 1120.65 195.834 1120.28 Q193.588 1119.91 191.181 1119.17 L191.181 1114.47 Q193.264 1115.6 195.487 1116.16 Q197.709 1116.71 200.186 1116.71 Q204.19 1116.71 206.528 1114.61 Q208.866 1112.5 208.866 1108.89 Q208.866 1105.28 206.528 1103.17 Q204.19 1101.06 200.186 1101.06 Q198.311 1101.06 196.436 1101.48 Q194.584 1101.9 192.639 1102.78 L192.639 1085.42 Z\" fill=\"#000000\" fill-rule=\"nonzero\" fill-opacity=\"1\" /><path clip-path=\"url(#clip580)\" d=\"M126.205 806.953 Q122.593 806.953 120.765 810.518 Q118.959 814.059 118.959 821.189 Q118.959 828.295 120.765 831.86 Q122.593 835.402 126.205 835.402 Q129.839 835.402 131.644 831.86 Q133.473 828.295 133.473 821.189 Q133.473 814.059 131.644 810.518 Q129.839 806.953 126.205 806.953 M126.205 803.249 Q132.015 803.249 135.07 807.856 Q138.149 812.439 138.149 821.189 Q138.149 829.916 135.07 834.522 Q132.015 839.106 126.205 839.106 Q120.394 839.106 117.316 834.522 Q114.26 829.916 114.26 821.189 Q114.26 812.439 117.316 807.856 Q120.394 803.249 126.205 803.249 Z\" fill=\"#000000\" fill-rule=\"nonzero\" fill-opacity=\"1\" /><path clip-path=\"url(#clip580)\" d=\"M146.366 832.555 L151.251 832.555 L151.251 838.434 L146.366 838.434 L146.366 832.555 Z\" fill=\"#000000\" fill-rule=\"nonzero\" fill-opacity=\"1\" /><path clip-path=\"url(#clip580)\" d=\"M162.246 834.499 L169.885 834.499 L169.885 808.134 L161.575 809.8 L161.575 805.541 L169.839 803.874 L174.514 803.874 L174.514 834.499 L182.153 834.499 L182.153 838.434 L162.246 838.434 L162.246 834.499 Z\" fill=\"#000000\" fill-rule=\"nonzero\" fill-opacity=\"1\" /><path clip-path=\"url(#clip580)\" d=\"M201.598 806.953 Q197.987 806.953 196.158 810.518 Q194.352 814.059 194.352 821.189 Q194.352 828.295 196.158 831.86 Q197.987 835.402 201.598 835.402 Q205.232 835.402 207.037 831.86 Q208.866 828.295 208.866 821.189 Q208.866 814.059 207.037 810.518 Q205.232 806.953 201.598 806.953 M201.598 803.249 Q207.408 803.249 210.463 807.856 Q213.542 812.439 213.542 821.189 Q213.542 829.916 210.463 834.522 Q207.408 839.106 201.598 839.106 Q195.787 839.106 192.709 834.522 Q189.653 829.916 189.653 821.189 Q189.653 812.439 192.709 807.856 Q195.787 803.249 201.598 803.249 Z\" fill=\"#000000\" fill-rule=\"nonzero\" fill-opacity=\"1\" /><path clip-path=\"url(#clip580)\" d=\"M127.2 525.411 Q123.589 525.411 121.76 528.976 Q119.955 532.517 119.955 539.647 Q119.955 546.753 121.76 550.318 Q123.589 553.86 127.2 553.86 Q130.834 553.86 132.64 550.318 Q134.468 546.753 134.468 539.647 Q134.468 532.517 132.64 528.976 Q130.834 525.411 127.2 525.411 M127.2 521.707 Q133.01 521.707 136.066 526.314 Q139.144 530.897 139.144 539.647 Q139.144 548.374 136.066 552.98 Q133.01 557.564 127.2 557.564 Q121.39 557.564 118.311 552.98 Q115.256 548.374 115.256 539.647 Q115.256 530.897 118.311 526.314 Q121.39 521.707 127.2 521.707 Z\" fill=\"#000000\" fill-rule=\"nonzero\" fill-opacity=\"1\" /><path clip-path=\"url(#clip580)\" d=\"M147.362 551.013 L152.246 551.013 L152.246 556.892 L147.362 556.892 L147.362 551.013 Z\" fill=\"#000000\" fill-rule=\"nonzero\" fill-opacity=\"1\" /><path clip-path=\"url(#clip580)\" d=\"M163.241 552.957 L170.88 552.957 L170.88 526.591 L162.57 528.258 L162.57 523.999 L170.834 522.332 L175.51 522.332 L175.51 552.957 L183.149 552.957 L183.149 556.892 L163.241 556.892 L163.241 552.957 Z\" fill=\"#000000\" fill-rule=\"nonzero\" fill-opacity=\"1\" /><path clip-path=\"url(#clip580)\" d=\"M192.639 522.332 L210.996 522.332 L210.996 526.267 L196.922 526.267 L196.922 534.74 Q197.94 534.392 198.959 534.23 Q199.977 534.045 200.996 534.045 Q206.783 534.045 210.162 537.216 Q213.542 540.388 213.542 545.804 Q213.542 551.383 210.07 554.485 Q206.598 557.564 200.278 557.564 Q198.102 557.564 195.834 557.193 Q193.588 556.823 191.181 556.082 L191.181 551.383 Q193.264 552.517 195.487 553.073 Q197.709 553.628 200.186 553.628 Q204.19 553.628 206.528 551.522 Q208.866 549.415 208.866 545.804 Q208.866 542.193 206.528 540.087 Q204.19 537.98 200.186 537.98 Q198.311 537.98 196.436 538.397 Q194.584 538.814 192.639 539.693 L192.639 522.332 Z\" fill=\"#000000\" fill-rule=\"nonzero\" fill-opacity=\"1\" /><path clip-path=\"url(#clip580)\" d=\"M126.205 243.869 Q122.593 243.869 120.765 247.434 Q118.959 250.975 118.959 258.105 Q118.959 265.211 120.765 268.776 Q122.593 272.318 126.205 272.318 Q129.839 272.318 131.644 268.776 Q133.473 265.211 133.473 258.105 Q133.473 250.975 131.644 247.434 Q129.839 243.869 126.205 243.869 M126.205 240.165 Q132.015 240.165 135.07 244.772 Q138.149 249.355 138.149 258.105 Q138.149 266.832 135.07 271.438 Q132.015 276.021 126.205 276.021 Q120.394 276.021 117.316 271.438 Q114.26 266.832 114.26 258.105 Q114.26 249.355 117.316 244.772 Q120.394 240.165 126.205 240.165 Z\" fill=\"#000000\" fill-rule=\"nonzero\" fill-opacity=\"1\" /><path clip-path=\"url(#clip580)\" d=\"M146.366 269.471 L151.251 269.471 L151.251 275.35 L146.366 275.35 L146.366 269.471 Z\" fill=\"#000000\" fill-rule=\"nonzero\" fill-opacity=\"1\" /><path clip-path=\"url(#clip580)\" d=\"M165.464 271.415 L181.783 271.415 L181.783 275.35 L159.839 275.35 L159.839 271.415 Q162.501 268.66 167.084 264.031 Q171.69 259.378 172.871 258.035 Q175.116 255.512 175.996 253.776 Q176.899 252.017 176.899 250.327 Q176.899 247.573 174.954 245.836 Q173.033 244.1 169.931 244.1 Q167.732 244.1 165.278 244.864 Q162.848 245.628 160.07 247.179 L160.07 242.457 Q162.894 241.323 165.348 240.744 Q167.802 240.165 169.839 240.165 Q175.209 240.165 178.403 242.85 Q181.598 245.536 181.598 250.026 Q181.598 252.156 180.788 254.077 Q180.001 255.975 177.894 258.568 Q177.315 259.239 174.214 262.457 Q171.112 265.651 165.464 271.415 Z\" fill=\"#000000\" fill-rule=\"nonzero\" fill-opacity=\"1\" /><path clip-path=\"url(#clip580)\" d=\"M201.598 243.869 Q197.987 243.869 196.158 247.434 Q194.352 250.975 194.352 258.105 Q194.352 265.211 196.158 268.776 Q197.987 272.318 201.598 272.318 Q205.232 272.318 207.037 268.776 Q208.866 265.211 208.866 258.105 Q208.866 250.975 207.037 247.434 Q205.232 243.869 201.598 243.869 M201.598 240.165 Q207.408 240.165 210.463 244.772 Q213.542 249.355 213.542 258.105 Q213.542 266.832 210.463 271.438 Q207.408 276.021 201.598 276.021 Q195.787 276.021 192.709 271.438 Q189.653 266.832 189.653 258.105 Q189.653 249.355 192.709 244.772 Q195.787 240.165 201.598 240.165 Z\" fill=\"#000000\" fill-rule=\"nonzero\" fill-opacity=\"1\" /><path clip-path=\"url(#clip580)\" d=\"M21.7677 988.694 L39.6235 988.694 L39.6235 980.61 Q39.6235 976.122 37.3 973.671 Q34.9765 971.221 30.6797 971.221 Q26.4147 971.221 24.0912 973.671 Q21.7677 976.122 21.7677 980.61 L21.7677 988.694 M16.4842 995.124 L16.4842 980.61 Q16.4842 972.621 20.1126 968.547 Q23.7092 964.441 30.6797 964.441 Q37.7138 964.441 41.3104 968.547 Q44.907 972.621 44.907 980.61 L44.907 988.694 L64.0042 988.694 L64.0042 995.124 L16.4842 995.124 Z\" fill=\"#000000\" fill-rule=\"nonzero\" fill-opacity=\"1\" /><path clip-path=\"url(#clip580)\" d=\"M33.8307 936.559 Q33.2578 937.546 33.0032 938.724 Q32.7167 939.869 32.7167 941.27 Q32.7167 946.235 35.9632 948.909 Q39.1779 951.551 45.2253 951.551 L64.0042 951.551 L64.0042 957.439 L28.3562 957.439 L28.3562 951.551 L33.8944 951.551 Q30.6479 949.704 29.0883 946.744 Q27.4968 943.784 27.4968 939.551 Q27.4968 938.946 27.5923 938.214 Q27.656 937.482 27.8151 936.591 L33.8307 936.559 Z\" fill=\"#000000\" fill-rule=\"nonzero\" fill-opacity=\"1\" /><path clip-path=\"url(#clip580)\" d=\"M32.4621 918.035 Q32.4621 922.746 36.1542 925.483 Q39.8145 928.22 46.212 928.22 Q52.6095 928.22 56.3017 925.515 Q59.9619 922.778 59.9619 918.035 Q59.9619 913.356 56.2698 910.619 Q52.5777 907.882 46.212 907.882 Q39.8781 907.882 36.186 910.619 Q32.4621 913.356 32.4621 918.035 M27.4968 918.035 Q27.4968 910.396 32.4621 906.036 Q37.4273 901.675 46.212 901.675 Q54.9649 901.675 59.9619 906.036 Q64.9272 910.396 64.9272 918.035 Q64.9272 925.706 59.9619 930.066 Q54.9649 934.395 46.212 934.395 Q37.4273 934.395 32.4621 930.066 Q27.4968 925.706 27.4968 918.035 Z\" fill=\"#000000\" fill-rule=\"nonzero\" fill-opacity=\"1\" /><path clip-path=\"url(#clip580)\" d=\"M46.212 866.377 Q39.7508 866.377 36.0905 869.051 Q32.3984 871.693 32.3984 876.34 Q32.3984 880.987 36.0905 883.66 Q39.7508 886.302 46.212 886.302 Q52.6732 886.302 56.3653 883.66 Q60.0256 880.987 60.0256 876.34 Q60.0256 871.693 56.3653 869.051 Q52.6732 866.377 46.212 866.377 M33.7671 886.302 Q30.5842 884.456 29.0564 881.655 Q27.4968 878.822 27.4968 874.907 Q27.4968 868.414 32.6531 864.372 Q37.8093 860.298 46.212 860.298 Q54.6147 860.298 59.771 864.372 Q64.9272 868.414 64.9272 874.907 Q64.9272 878.822 63.3994 881.655 Q61.8398 884.456 58.657 886.302 L64.0042 886.302 L64.0042 892.19 L14.479 892.19 L14.479 886.302 L33.7671 886.302 Z\" fill=\"#000000\" fill-rule=\"nonzero\" fill-opacity=\"1\" /><path clip-path=\"url(#clip580)\" d=\"M46.0847 834.39 Q46.0847 841.487 47.7079 844.225 Q49.3312 846.962 53.2461 846.962 Q56.3653 846.962 58.2114 844.925 Q60.0256 842.856 60.0256 839.323 Q60.0256 834.453 56.5881 831.525 Q53.1188 828.565 47.3897 828.565 L46.0847 828.565 L46.0847 834.39 M43.6657 822.709 L64.0042 822.709 L64.0042 828.565 L58.5933 828.565 Q61.8398 830.57 63.3994 833.562 Q64.9272 836.554 64.9272 840.883 Q64.9272 846.357 61.8716 849.604 Q58.7843 852.818 53.6281 852.818 Q47.6125 852.818 44.5569 848.808 Q41.5014 844.766 41.5014 836.777 L41.5014 828.565 L40.9285 828.565 Q36.8862 828.565 34.6901 831.239 Q32.4621 833.88 32.4621 838.687 Q32.4621 841.742 33.1941 844.638 Q33.9262 847.535 35.3903 850.208 L29.9795 850.208 Q28.7381 846.994 28.1334 843.97 Q27.4968 840.946 27.4968 838.082 Q27.4968 830.347 31.5072 826.528 Q35.5176 822.709 43.6657 822.709 Z\" fill=\"#000000\" fill-rule=\"nonzero\" fill-opacity=\"1\" /><path clip-path=\"url(#clip580)\" d=\"M46.212 785.055 Q39.7508 785.055 36.0905 787.729 Q32.3984 790.371 32.3984 795.018 Q32.3984 799.665 36.0905 802.338 Q39.7508 804.98 46.212 804.98 Q52.6732 804.98 56.3653 802.338 Q60.0256 799.665 60.0256 795.018 Q60.0256 790.371 56.3653 787.729 Q52.6732 785.055 46.212 785.055 M33.7671 804.98 Q30.5842 803.134 29.0564 800.333 Q27.4968 797.5 27.4968 793.585 Q27.4968 787.092 32.6531 783.05 Q37.8093 778.976 46.212 778.976 Q54.6147 778.976 59.771 783.05 Q64.9272 787.092 64.9272 793.585 Q64.9272 797.5 63.3994 800.333 Q61.8398 803.134 58.657 804.98 L64.0042 804.98 L64.0042 810.868 L14.479 810.868 L14.479 804.98 L33.7671 804.98 Z\" fill=\"#000000\" fill-rule=\"nonzero\" fill-opacity=\"1\" /><path clip-path=\"url(#clip580)\" d=\"M28.3562 769.268 L28.3562 763.412 L64.0042 763.412 L64.0042 769.268 L28.3562 769.268 M14.479 769.268 L14.479 763.412 L21.895 763.412 L21.895 769.268 L14.479 769.268 Z\" fill=\"#000000\" fill-rule=\"nonzero\" fill-opacity=\"1\" /><path clip-path=\"url(#clip580)\" d=\"M14.479 751.158 L14.479 745.302 L64.0042 745.302 L64.0042 751.158 L14.479 751.158 Z\" fill=\"#000000\" fill-rule=\"nonzero\" fill-opacity=\"1\" /><path clip-path=\"url(#clip580)\" d=\"M28.3562 733.048 L28.3562 727.191 L64.0042 727.191 L64.0042 733.048 L28.3562 733.048 M14.479 733.048 L14.479 727.191 L21.895 727.191 L21.895 733.048 L14.479 733.048 Z\" fill=\"#000000\" fill-rule=\"nonzero\" fill-opacity=\"1\" /><path clip-path=\"url(#clip580)\" d=\"M18.2347 709.144 L28.3562 709.144 L28.3562 697.081 L32.9077 697.081 L32.9077 709.144 L52.2594 709.144 Q56.6199 709.144 57.8613 707.967 Q59.1026 706.757 59.1026 703.097 L59.1026 697.081 L64.0042 697.081 L64.0042 703.097 Q64.0042 709.876 61.4897 712.455 Q58.9434 715.033 52.2594 715.033 L32.9077 715.033 L32.9077 719.33 L28.3562 719.33 L28.3562 715.033 L18.2347 715.033 L18.2347 709.144 Z\" fill=\"#000000\" fill-rule=\"nonzero\" fill-opacity=\"1\" /><path clip-path=\"url(#clip580)\" d=\"M67.3143 674.547 Q73.68 677.029 75.6216 679.385 Q77.5631 681.74 77.5631 685.687 L77.5631 690.366 L72.6615 690.366 L72.6615 686.928 Q72.6615 684.509 71.5157 683.172 Q70.3699 681.836 66.1048 680.212 L63.4312 679.162 L28.3562 693.58 L28.3562 687.374 L56.238 676.234 L28.3562 665.094 L28.3562 658.887 L67.3143 674.547 Z\" fill=\"#000000\" fill-rule=\"nonzero\" fill-opacity=\"1\" /><path clip-path=\"url(#clip580)\" d=\"M16.4842 629.828 L16.4842 620.247 L48.8219 608.121 L16.4842 595.93 L16.4842 586.35 L64.0042 586.35 L64.0042 592.62 L22.277 592.62 L54.8694 604.874 L54.8694 611.335 L22.277 623.589 L64.0042 623.589 L64.0042 629.828 L16.4842 629.828 Z\" fill=\"#000000\" fill-rule=\"nonzero\" fill-opacity=\"1\" /><path clip-path=\"url(#clip580)\" d=\"M46.0847 557.641 Q46.0847 564.738 47.7079 567.476 Q49.3312 570.213 53.2461 570.213 Q56.3653 570.213 58.2114 568.176 Q60.0256 566.107 60.0256 562.574 Q60.0256 557.704 56.5881 554.776 Q53.1188 551.816 47.3897 551.816 L46.0847 551.816 L46.0847 557.641 M43.6657 545.96 L64.0042 545.96 L64.0042 551.816 L58.5933 551.816 Q61.8398 553.821 63.3994 556.813 Q64.9272 559.805 64.9272 564.134 Q64.9272 569.608 61.8716 572.855 Q58.7843 576.069 53.6281 576.069 Q47.6125 576.069 44.5569 572.059 Q41.5014 568.017 41.5014 560.028 L41.5014 551.816 L40.9285 551.816 Q36.8862 551.816 34.6901 554.49 Q32.4621 557.131 32.4621 561.937 Q32.4621 564.993 33.1941 567.889 Q33.9262 570.786 35.3903 573.459 L29.9795 573.459 Q28.7381 570.245 28.1334 567.221 Q27.4968 564.197 27.4968 561.333 Q27.4968 553.598 31.5072 549.779 Q35.5176 545.96 43.6657 545.96 Z\" fill=\"#000000\" fill-rule=\"nonzero\" fill-opacity=\"1\" /><path clip-path=\"url(#clip580)\" d=\"M29.4065 511.171 L34.9447 511.171 Q33.6716 513.654 33.035 516.327 Q32.3984 519.001 32.3984 521.865 Q32.3984 526.226 33.7352 528.422 Q35.072 530.586 37.7456 530.586 Q39.7826 530.586 40.9603 529.027 Q42.1061 527.467 43.1565 522.757 L43.6021 520.751 Q44.9389 514.513 47.3897 511.903 Q49.8086 509.261 54.1691 509.261 Q59.1344 509.261 62.0308 513.208 Q64.9272 517.123 64.9272 523.998 Q64.9272 526.862 64.3543 529.982 Q63.8132 533.069 62.6992 536.506 L56.6518 536.506 Q58.3387 533.26 59.198 530.109 Q60.0256 526.958 60.0256 523.871 Q60.0256 519.733 58.6251 517.505 Q57.1929 515.277 54.6147 515.277 Q52.2276 515.277 50.9545 516.9 Q49.6813 518.491 48.5037 523.934 L48.0262 525.971 Q46.8804 531.414 44.5251 533.833 Q42.138 536.252 38.0002 536.252 Q32.9713 536.252 30.2341 532.687 Q27.4968 529.122 27.4968 522.566 Q27.4968 519.319 27.9743 516.454 Q28.4517 513.59 29.4065 511.171 Z\" fill=\"#000000\" fill-rule=\"nonzero\" fill-opacity=\"1\" /><path clip-path=\"url(#clip580)\" d=\"M29.4065 477.21 L34.9447 477.21 Q33.6716 479.693 33.035 482.366 Q32.3984 485.04 32.3984 487.904 Q32.3984 492.265 33.7352 494.461 Q35.072 496.625 37.7456 496.625 Q39.7826 496.625 40.9603 495.066 Q42.1061 493.506 43.1565 488.795 L43.6021 486.79 Q44.9389 480.552 47.3897 477.942 Q49.8086 475.3 54.1691 475.3 Q59.1344 475.3 62.0308 479.247 Q64.9272 483.162 64.9272 490.037 Q64.9272 492.901 64.3543 496.021 Q63.8132 499.108 62.6992 502.545 L56.6518 502.545 Q58.3387 499.299 59.198 496.148 Q60.0256 492.997 60.0256 489.909 Q60.0256 485.772 58.6251 483.544 Q57.1929 481.316 54.6147 481.316 Q52.2276 481.316 50.9545 482.939 Q49.6813 484.53 48.5037 489.973 L48.0262 492.01 Q46.8804 497.453 44.5251 499.872 Q42.138 502.291 38.0002 502.291 Q32.9713 502.291 30.2341 498.726 Q27.4968 495.161 27.4968 488.604 Q27.4968 485.358 27.9743 482.493 Q28.4517 479.629 29.4065 477.21 Z\" fill=\"#000000\" fill-rule=\"nonzero\" fill-opacity=\"1\" /><polyline clip-path=\"url(#clip582)\" style=\"stroke:#00008b; stroke-linecap:round; stroke-linejoin:round; stroke-width:16; stroke-opacity:0.5; fill:none\" points=\"309.067,86.1857 329.109,539.152 349.151,773.904 369.193,903.532 389.235,1054.4 409.277,1086.18 429.319,1158.23 449.361,1201.88 469.403,1241.63 489.446,1248.47 509.488,1272.39 529.53,1284.62 549.572,1296.12 569.614,1305.48 589.656,1317.56 609.698,1324.97 629.74,1329.64 649.782,1338.93 669.824,1343.64 689.866,1347.56 709.908,1351.12 729.95,1354.3 749.992,1357.5 770.034,1360 790.076,1361.47 810.118,1363.41 830.161,1365.34 850.203,1366.87 870.245,1367.9 890.287,1368.95 910.329,1369.81 930.371,1371.12 950.413,1372 970.455,1372.64 990.497,1373.54 1010.54,1374.39 1030.58,1374.99 1050.62,1375.68 1070.67,1376.38 1090.71,1377.03 1110.75,1377.48 1130.79,1378.01 1150.83,1378.6 1170.88,1378.95 1190.92,1379.43 1210.96,1379.9 1231,1380.25 1251.04,1380.52 1271.09,1380.96 1291.13,1381.27 1311.17,1381.54 1331.21,1381.82 1351.25,1382.06 1371.3,1382.26 1391.34,1382.46 1411.38,1382.68 1431.42,1382.86 1451.46,1383.02 1471.51,1383.15 1491.55,1383.24 1511.59,1383.4 1531.63,1383.51 1551.67,1383.6 1571.72,1383.68 1591.76,1383.75 1611.8,1383.81 1631.84,1383.88 1651.89,1383.94 1671.93,1383.98 1691.97,1384.01 1712.01,1384.04 1732.05,1384.08 1752.1,1384.1 1772.14,1384.13 1792.18,1384.14 1812.22,1384.16 1832.26,1384.17 1852.31,1384.19 1872.35,1384.2 1892.39,1384.2 1912.43,1384.21 1932.47,1384.22 1952.52,1384.22 1972.56,1384.22 1992.6,1384.23 2012.64,1384.23 2032.68,1384.23 2052.73,1384.23 2072.77,1384.23 2092.81,1384.24 2112.85,1384.24 2132.89,1384.24 2152.94,1384.24 2172.98,1384.24 2193.02,1384.24 2213.06,1384.24 2233.1,1384.24 2253.15,1384.24 2273.19,1384.24 2293.23,1384.24 \"/>\n",
       "</svg>\n"
      ],
      "text/html": [
       "<?xml version=\"1.0\" encoding=\"utf-8\"?>\n",
       "<svg xmlns=\"http://www.w3.org/2000/svg\" xmlns:xlink=\"http://www.w3.org/1999/xlink\" width=\"600\" height=\"400\" viewBox=\"0 0 2400 1600\">\n",
       "<defs>\n",
       "  <clipPath id=\"clip630\">\n",
       "    <rect x=\"0\" y=\"0\" width=\"2400\" height=\"1600\"/>\n",
       "  </clipPath>\n",
       "</defs>\n",
       "<path clip-path=\"url(#clip630)\" d=\"M0 1600 L2400 1600 L2400 0 L0 0  Z\" fill=\"#ffffff\" fill-rule=\"evenodd\" fill-opacity=\"1\"/>\n",
       "<defs>\n",
       "  <clipPath id=\"clip631\">\n",
       "    <rect x=\"480\" y=\"0\" width=\"1681\" height=\"1600\"/>\n",
       "  </clipPath>\n",
       "</defs>\n",
       "<path clip-path=\"url(#clip630)\" d=\"M249.542 1423.18 L2352.76 1423.18 L2352.76 47.2441 L249.542 47.2441  Z\" fill=\"#ffffff\" fill-rule=\"evenodd\" fill-opacity=\"1\"/>\n",
       "<defs>\n",
       "  <clipPath id=\"clip632\">\n",
       "    <rect x=\"249\" y=\"47\" width=\"2104\" height=\"1377\"/>\n",
       "  </clipPath>\n",
       "</defs>\n",
       "<polyline clip-path=\"url(#clip632)\" style=\"stroke:#000000; stroke-linecap:round; stroke-linejoin:round; stroke-width:2; stroke-opacity:0.1; fill:none\" points=\"425.782,1423.18 425.782,47.2441 \"/>\n",
       "<polyline clip-path=\"url(#clip632)\" style=\"stroke:#000000; stroke-linecap:round; stroke-linejoin:round; stroke-width:2; stroke-opacity:0.1; fill:none\" points=\"892.645,1423.18 892.645,47.2441 \"/>\n",
       "<polyline clip-path=\"url(#clip632)\" style=\"stroke:#000000; stroke-linecap:round; stroke-linejoin:round; stroke-width:2; stroke-opacity:0.1; fill:none\" points=\"1359.51,1423.18 1359.51,47.2441 \"/>\n",
       "<polyline clip-path=\"url(#clip632)\" style=\"stroke:#000000; stroke-linecap:round; stroke-linejoin:round; stroke-width:2; stroke-opacity:0.1; fill:none\" points=\"1826.37,1423.18 1826.37,47.2441 \"/>\n",
       "<polyline clip-path=\"url(#clip632)\" style=\"stroke:#000000; stroke-linecap:round; stroke-linejoin:round; stroke-width:2; stroke-opacity:0.1; fill:none\" points=\"2293.23,1423.18 2293.23,47.2441 \"/>\n",
       "<polyline clip-path=\"url(#clip630)\" style=\"stroke:#000000; stroke-linecap:round; stroke-linejoin:round; stroke-width:4; stroke-opacity:1; fill:none\" points=\"249.542,1423.18 2352.76,1423.18 \"/>\n",
       "<polyline clip-path=\"url(#clip630)\" style=\"stroke:#000000; stroke-linecap:round; stroke-linejoin:round; stroke-width:4; stroke-opacity:1; fill:none\" points=\"425.782,1423.18 425.782,1404.28 \"/>\n",
       "<polyline clip-path=\"url(#clip630)\" style=\"stroke:#000000; stroke-linecap:round; stroke-linejoin:round; stroke-width:4; stroke-opacity:1; fill:none\" points=\"892.645,1423.18 892.645,1404.28 \"/>\n",
       "<polyline clip-path=\"url(#clip630)\" style=\"stroke:#000000; stroke-linecap:round; stroke-linejoin:round; stroke-width:4; stroke-opacity:1; fill:none\" points=\"1359.51,1423.18 1359.51,1404.28 \"/>\n",
       "<polyline clip-path=\"url(#clip630)\" style=\"stroke:#000000; stroke-linecap:round; stroke-linejoin:round; stroke-width:4; stroke-opacity:1; fill:none\" points=\"1826.37,1423.18 1826.37,1404.28 \"/>\n",
       "<polyline clip-path=\"url(#clip630)\" style=\"stroke:#000000; stroke-linecap:round; stroke-linejoin:round; stroke-width:4; stroke-opacity:1; fill:none\" points=\"2293.23,1423.18 2293.23,1404.28 \"/>\n",
       "<path clip-path=\"url(#clip630)\" d=\"M425.782 1454.1 Q422.171 1454.1 420.343 1457.66 Q418.537 1461.2 418.537 1468.33 Q418.537 1475.44 420.343 1479.01 Q422.171 1482.55 425.782 1482.55 Q429.417 1482.55 431.222 1479.01 Q433.051 1475.44 433.051 1468.33 Q433.051 1461.2 431.222 1457.66 Q429.417 1454.1 425.782 1454.1 M425.782 1450.39 Q431.593 1450.39 434.648 1455 Q437.727 1459.58 437.727 1468.33 Q437.727 1477.06 434.648 1481.67 Q431.593 1486.25 425.782 1486.25 Q419.972 1486.25 416.894 1481.67 Q413.838 1477.06 413.838 1468.33 Q413.838 1459.58 416.894 1455 Q419.972 1450.39 425.782 1450.39 Z\" fill=\"#000000\" fill-rule=\"nonzero\" fill-opacity=\"1\" /><path clip-path=\"url(#clip630)\" d=\"M887.297 1481.64 L903.617 1481.64 L903.617 1485.58 L881.672 1485.58 L881.672 1481.64 Q884.334 1478.89 888.918 1474.26 Q893.524 1469.61 894.705 1468.27 Q896.95 1465.74 897.83 1464.01 Q898.733 1462.25 898.733 1460.56 Q898.733 1457.8 896.788 1456.07 Q894.867 1454.33 891.765 1454.33 Q889.566 1454.33 887.112 1455.09 Q884.682 1455.86 881.904 1457.41 L881.904 1452.69 Q884.728 1451.55 887.182 1450.97 Q889.635 1450.39 891.672 1450.39 Q897.043 1450.39 900.237 1453.08 Q903.432 1455.77 903.432 1460.26 Q903.432 1462.39 902.621 1464.31 Q901.834 1466.2 899.728 1468.8 Q899.149 1469.47 896.047 1472.69 Q892.946 1475.88 887.297 1481.64 Z\" fill=\"#000000\" fill-rule=\"nonzero\" fill-opacity=\"1\" /><path clip-path=\"url(#clip630)\" d=\"M1362.52 1455.09 L1350.71 1473.54 L1362.52 1473.54 L1362.52 1455.09 M1361.29 1451.02 L1367.17 1451.02 L1367.17 1473.54 L1372.1 1473.54 L1372.1 1477.43 L1367.17 1477.43 L1367.17 1485.58 L1362.52 1485.58 L1362.52 1477.43 L1346.91 1477.43 L1346.91 1472.92 L1361.29 1451.02 Z\" fill=\"#000000\" fill-rule=\"nonzero\" fill-opacity=\"1\" /><path clip-path=\"url(#clip630)\" d=\"M1826.77 1466.44 Q1823.63 1466.44 1821.77 1468.59 Q1819.95 1470.74 1819.95 1474.49 Q1819.95 1478.22 1821.77 1480.39 Q1823.63 1482.55 1826.77 1482.55 Q1829.92 1482.55 1831.75 1480.39 Q1833.6 1478.22 1833.6 1474.49 Q1833.6 1470.74 1831.75 1468.59 Q1829.92 1466.44 1826.77 1466.44 M1836.06 1451.78 L1836.06 1456.04 Q1834.3 1455.21 1832.49 1454.77 Q1830.71 1454.33 1828.95 1454.33 Q1824.32 1454.33 1821.87 1457.45 Q1819.44 1460.58 1819.09 1466.9 Q1820.45 1464.89 1822.51 1463.82 Q1824.57 1462.73 1827.05 1462.73 Q1832.26 1462.73 1835.27 1465.9 Q1838.3 1469.05 1838.3 1474.49 Q1838.3 1479.82 1835.15 1483.03 Q1832.01 1486.25 1826.77 1486.25 Q1820.78 1486.25 1817.61 1481.67 Q1814.44 1477.06 1814.44 1468.33 Q1814.44 1460.14 1818.32 1455.28 Q1822.21 1450.39 1828.76 1450.39 Q1830.52 1450.39 1832.31 1450.74 Q1834.11 1451.09 1836.06 1451.78 Z\" fill=\"#000000\" fill-rule=\"nonzero\" fill-opacity=\"1\" /><path clip-path=\"url(#clip630)\" d=\"M2293.23 1469.17 Q2289.9 1469.17 2287.98 1470.95 Q2286.08 1472.73 2286.08 1475.86 Q2286.08 1478.98 2287.98 1480.77 Q2289.9 1482.55 2293.23 1482.55 Q2296.56 1482.55 2298.49 1480.77 Q2300.41 1478.96 2300.41 1475.86 Q2300.41 1472.73 2298.49 1470.95 Q2296.59 1469.17 2293.23 1469.17 M2288.56 1467.18 Q2285.55 1466.44 2283.86 1464.38 Q2282.19 1462.32 2282.19 1459.35 Q2282.19 1455.21 2285.13 1452.8 Q2288.09 1450.39 2293.23 1450.39 Q2298.39 1450.39 2301.33 1452.8 Q2304.27 1455.21 2304.27 1459.35 Q2304.27 1462.32 2302.58 1464.38 Q2300.92 1466.44 2297.93 1467.18 Q2301.31 1467.96 2303.18 1470.26 Q2305.08 1472.55 2305.08 1475.86 Q2305.08 1480.88 2302 1483.57 Q2298.95 1486.25 2293.23 1486.25 Q2287.51 1486.25 2284.43 1483.57 Q2281.38 1480.88 2281.38 1475.86 Q2281.38 1472.55 2283.28 1470.26 Q2285.18 1467.96 2288.56 1467.18 M2286.84 1459.79 Q2286.84 1462.48 2288.51 1463.98 Q2290.2 1465.49 2293.23 1465.49 Q2296.24 1465.49 2297.93 1463.98 Q2299.64 1462.48 2299.64 1459.79 Q2299.64 1457.11 2297.93 1455.6 Q2296.24 1454.1 2293.23 1454.1 Q2290.2 1454.1 2288.51 1455.6 Q2286.84 1457.11 2286.84 1459.79 Z\" fill=\"#000000\" fill-rule=\"nonzero\" fill-opacity=\"1\" /><path clip-path=\"url(#clip630)\" d=\"M851.173 1526.86 L842.452 1550.51 L859.926 1550.51 L851.173 1526.86 M847.545 1520.52 L854.833 1520.52 L872.944 1568.04 L866.26 1568.04 L861.931 1555.85 L840.511 1555.85 L836.182 1568.04 L829.402 1568.04 L847.545 1520.52 Z\" fill=\"#000000\" fill-rule=\"nonzero\" fill-opacity=\"1\" /><path clip-path=\"url(#clip630)\" d=\"M902.353 1533.45 L902.353 1538.98 Q899.871 1537.71 897.197 1537.07 Q894.524 1536.44 891.659 1536.44 Q887.298 1536.44 885.102 1537.77 Q882.938 1539.11 882.938 1541.79 Q882.938 1543.82 884.498 1545 Q886.057 1546.15 890.768 1547.2 L892.773 1547.64 Q899.011 1548.98 901.621 1551.43 Q904.263 1553.85 904.263 1558.21 Q904.263 1563.17 900.316 1566.07 Q896.401 1568.97 889.526 1568.97 Q886.662 1568.97 883.543 1568.39 Q880.455 1567.85 877.018 1566.74 L877.018 1560.69 Q880.264 1562.38 883.415 1563.24 Q886.566 1564.07 889.654 1564.07 Q893.791 1564.07 896.019 1562.66 Q898.247 1561.23 898.247 1558.65 Q898.247 1556.27 896.624 1554.99 Q895.033 1553.72 889.59 1552.54 L887.553 1552.07 Q882.11 1550.92 879.691 1548.56 Q877.272 1546.18 877.272 1542.04 Q877.272 1537.01 880.837 1534.27 Q884.402 1531.54 890.959 1531.54 Q894.205 1531.54 897.07 1532.01 Q899.934 1532.49 902.353 1533.45 Z\" fill=\"#000000\" fill-rule=\"nonzero\" fill-opacity=\"1\" /><path clip-path=\"url(#clip630)\" d=\"M936.314 1533.45 L936.314 1538.98 Q933.832 1537.71 931.158 1537.07 Q928.485 1536.44 925.62 1536.44 Q921.26 1536.44 919.063 1537.77 Q916.899 1539.11 916.899 1541.79 Q916.899 1543.82 918.459 1545 Q920.018 1546.15 924.729 1547.2 L926.734 1547.64 Q932.972 1548.98 935.582 1551.43 Q938.224 1553.85 938.224 1558.21 Q938.224 1563.17 934.277 1566.07 Q930.362 1568.97 923.488 1568.97 Q920.623 1568.97 917.504 1568.39 Q914.416 1567.85 910.979 1566.74 L910.979 1560.69 Q914.225 1562.38 917.376 1563.24 Q920.527 1564.07 923.615 1564.07 Q927.753 1564.07 929.981 1562.66 Q932.209 1561.23 932.209 1558.65 Q932.209 1556.27 930.585 1554.99 Q928.994 1553.72 923.551 1552.54 L921.514 1552.07 Q916.071 1550.92 913.652 1548.56 Q911.234 1546.18 911.234 1542.04 Q911.234 1537.01 914.798 1534.27 Q918.363 1531.54 924.92 1531.54 Q928.166 1531.54 931.031 1532.01 Q933.895 1532.49 936.314 1533.45 Z\" fill=\"#000000\" fill-rule=\"nonzero\" fill-opacity=\"1\" /><path clip-path=\"url(#clip630)\" d=\"M978.042 1548.76 L978.042 1551.62 L951.115 1551.62 Q951.497 1557.67 954.743 1560.85 Q958.021 1564 963.846 1564 Q967.22 1564 970.371 1563.17 Q973.554 1562.35 976.673 1560.69 L976.673 1566.23 Q973.522 1567.57 970.212 1568.27 Q966.902 1568.97 963.496 1568.97 Q954.966 1568.97 949.969 1564 Q945.004 1559.04 945.004 1550.57 Q945.004 1541.82 949.714 1536.69 Q954.457 1531.54 962.477 1531.54 Q969.671 1531.54 973.84 1536.18 Q978.042 1540.8 978.042 1548.76 M972.185 1547.04 Q972.122 1542.23 969.48 1539.37 Q966.87 1536.5 962.541 1536.5 Q957.64 1536.5 954.679 1539.27 Q951.751 1542.04 951.306 1547.07 L972.185 1547.04 Z\" fill=\"#000000\" fill-rule=\"nonzero\" fill-opacity=\"1\" /><path clip-path=\"url(#clip630)\" d=\"M993.447 1522.27 L993.447 1532.4 L1005.51 1532.4 L1005.51 1536.95 L993.447 1536.95 L993.447 1556.3 Q993.447 1560.66 994.624 1561.9 Q995.834 1563.14 999.494 1563.14 L1005.51 1563.14 L1005.51 1568.04 L999.494 1568.04 Q992.715 1568.04 990.136 1565.53 Q987.558 1562.98 987.558 1556.3 L987.558 1536.95 L983.261 1536.95 L983.261 1532.4 L987.558 1532.4 L987.558 1522.27 L993.447 1522.27 Z\" fill=\"#000000\" fill-rule=\"nonzero\" fill-opacity=\"1\" /><path clip-path=\"url(#clip630)\" d=\"M1034.19 1520.52 L1040.62 1520.52 L1040.62 1540 L1063.98 1540 L1063.98 1520.52 L1070.41 1520.52 L1070.41 1568.04 L1063.98 1568.04 L1063.98 1545.41 L1040.62 1545.41 L1040.62 1568.04 L1034.19 1568.04 L1034.19 1520.52 Z\" fill=\"#000000\" fill-rule=\"nonzero\" fill-opacity=\"1\" /><path clip-path=\"url(#clip630)\" d=\"M1096.76 1536.5 Q1092.05 1536.5 1089.31 1540.19 Q1086.58 1543.85 1086.58 1550.25 Q1086.58 1556.65 1089.28 1560.34 Q1092.02 1564 1096.76 1564 Q1101.44 1564 1104.18 1560.31 Q1106.92 1556.62 1106.92 1550.25 Q1106.92 1543.92 1104.18 1540.23 Q1101.44 1536.5 1096.76 1536.5 M1096.76 1531.54 Q1104.4 1531.54 1108.76 1536.5 Q1113.12 1541.47 1113.12 1550.25 Q1113.12 1559 1108.76 1564 Q1104.4 1568.97 1096.76 1568.97 Q1089.09 1568.97 1084.73 1564 Q1080.4 1559 1080.4 1550.25 Q1080.4 1541.47 1084.73 1536.5 Q1089.09 1531.54 1096.76 1531.54 Z\" fill=\"#000000\" fill-rule=\"nonzero\" fill-opacity=\"1\" /><path clip-path=\"url(#clip630)\" d=\"M1122.83 1518.52 L1128.69 1518.52 L1128.69 1568.04 L1122.83 1568.04 L1122.83 1518.52 Z\" fill=\"#000000\" fill-rule=\"nonzero\" fill-opacity=\"1\" /><path clip-path=\"url(#clip630)\" d=\"M1164.4 1537.81 L1164.4 1518.52 L1170.25 1518.52 L1170.25 1568.04 L1164.4 1568.04 L1164.4 1562.7 Q1162.55 1565.88 1159.72 1567.44 Q1156.92 1568.97 1152.97 1568.97 Q1146.51 1568.97 1142.44 1563.81 Q1138.39 1558.65 1138.39 1550.25 Q1138.39 1541.85 1142.44 1536.69 Q1146.51 1531.54 1152.97 1531.54 Q1156.92 1531.54 1159.72 1533.1 Q1162.55 1534.62 1164.4 1537.81 M1144.44 1550.25 Q1144.44 1556.71 1147.08 1560.4 Q1149.76 1564.07 1154.4 1564.07 Q1159.05 1564.07 1161.72 1560.4 Q1164.4 1556.71 1164.4 1550.25 Q1164.4 1543.79 1161.72 1540.13 Q1159.05 1536.44 1154.4 1536.44 Q1149.76 1536.44 1147.08 1540.13 Q1144.44 1543.79 1144.44 1550.25 Z\" fill=\"#000000\" fill-rule=\"nonzero\" fill-opacity=\"1\" /><path clip-path=\"url(#clip630)\" d=\"M1182.32 1532.4 L1188.17 1532.4 L1188.17 1568.04 L1182.32 1568.04 L1182.32 1532.4 M1182.32 1518.52 L1188.17 1518.52 L1188.17 1525.93 L1182.32 1525.93 L1182.32 1518.52 Z\" fill=\"#000000\" fill-rule=\"nonzero\" fill-opacity=\"1\" /><path clip-path=\"url(#clip630)\" d=\"M1230.06 1546.53 L1230.06 1568.04 L1224.2 1568.04 L1224.2 1546.72 Q1224.2 1541.66 1222.23 1539.14 Q1220.26 1536.63 1216.31 1536.63 Q1211.57 1536.63 1208.83 1539.65 Q1206.09 1542.68 1206.09 1547.9 L1206.09 1568.04 L1200.2 1568.04 L1200.2 1532.4 L1206.09 1532.4 L1206.09 1537.93 Q1208.19 1534.72 1211.03 1533.13 Q1213.89 1531.54 1217.61 1531.54 Q1223.76 1531.54 1226.91 1535.36 Q1230.06 1539.14 1230.06 1546.53 Z\" fill=\"#000000\" fill-rule=\"nonzero\" fill-opacity=\"1\" /><path clip-path=\"url(#clip630)\" d=\"M1265.2 1549.81 Q1265.2 1543.44 1262.56 1539.94 Q1259.95 1536.44 1255.2 1536.44 Q1250.49 1536.44 1247.85 1539.94 Q1245.24 1543.44 1245.24 1549.81 Q1245.24 1556.14 1247.85 1559.64 Q1250.49 1563.14 1255.2 1563.14 Q1259.95 1563.14 1262.56 1559.64 Q1265.2 1556.14 1265.2 1549.81 M1271.06 1563.62 Q1271.06 1572.72 1267.01 1577.15 Q1262.97 1581.6 1254.63 1581.6 Q1251.54 1581.6 1248.81 1581.13 Q1246.07 1580.68 1243.49 1579.72 L1243.49 1574.03 Q1246.07 1575.43 1248.58 1576.1 Q1251.1 1576.76 1253.71 1576.76 Q1259.47 1576.76 1262.33 1573.74 Q1265.2 1570.75 1265.2 1564.67 L1265.2 1561.77 Q1263.38 1564.92 1260.55 1566.48 Q1257.72 1568.04 1253.77 1568.04 Q1247.22 1568.04 1243.21 1563.05 Q1239.19 1558.05 1239.19 1549.81 Q1239.19 1541.53 1243.21 1536.53 Q1247.22 1531.54 1253.77 1531.54 Q1257.72 1531.54 1260.55 1533.1 Q1263.38 1534.66 1265.2 1537.81 L1265.2 1532.4 L1271.06 1532.4 L1271.06 1563.62 Z\" fill=\"#000000\" fill-rule=\"nonzero\" fill-opacity=\"1\" /><path clip-path=\"url(#clip630)\" d=\"M1305.84 1533.45 L1305.84 1538.98 Q1303.36 1537.71 1300.69 1537.07 Q1298.01 1536.44 1295.15 1536.44 Q1290.79 1536.44 1288.59 1537.77 Q1286.43 1539.11 1286.43 1541.79 Q1286.43 1543.82 1287.99 1545 Q1289.55 1546.15 1294.26 1547.2 L1296.26 1547.64 Q1302.5 1548.98 1305.11 1551.43 Q1307.75 1553.85 1307.75 1558.21 Q1307.75 1563.17 1303.81 1566.07 Q1299.89 1568.97 1293.02 1568.97 Q1290.15 1568.97 1287.03 1568.39 Q1283.95 1567.85 1280.51 1566.74 L1280.51 1560.69 Q1283.75 1562.38 1286.91 1563.24 Q1290.06 1564.07 1293.14 1564.07 Q1297.28 1564.07 1299.51 1562.66 Q1301.74 1561.23 1301.74 1558.65 Q1301.74 1556.27 1300.11 1554.99 Q1298.52 1553.72 1293.08 1552.54 L1291.04 1552.07 Q1285.6 1550.92 1283.18 1548.56 Q1280.76 1546.18 1280.76 1542.04 Q1280.76 1537.01 1284.33 1534.27 Q1287.89 1531.54 1294.45 1531.54 Q1297.7 1531.54 1300.56 1532.01 Q1303.42 1532.49 1305.84 1533.45 Z\" fill=\"#000000\" fill-rule=\"nonzero\" fill-opacity=\"1\" /><path clip-path=\"url(#clip630)\" d=\"M1348.21 1520.52 L1353.62 1520.52 L1337.07 1574.09 L1331.66 1574.09 L1348.21 1520.52 Z\" fill=\"#000000\" fill-rule=\"nonzero\" fill-opacity=\"1\" /><path clip-path=\"url(#clip630)\" d=\"M1396.62 1526.86 L1387.9 1550.51 L1405.37 1550.51 L1396.62 1526.86 M1392.99 1520.52 L1400.28 1520.52 L1418.39 1568.04 L1411.71 1568.04 L1407.38 1555.85 L1385.96 1555.85 L1381.63 1568.04 L1374.85 1568.04 L1392.99 1520.52 Z\" fill=\"#000000\" fill-rule=\"nonzero\" fill-opacity=\"1\" /><path clip-path=\"url(#clip630)\" d=\"M1417.05 1532.4 L1423.26 1532.4 L1434.4 1562.31 L1445.54 1532.4 L1451.75 1532.4 L1438.38 1568.04 L1430.42 1568.04 L1417.05 1532.4 Z\" fill=\"#000000\" fill-rule=\"nonzero\" fill-opacity=\"1\" /><path clip-path=\"url(#clip630)\" d=\"M1483.29 1549.81 Q1483.29 1543.44 1480.65 1539.94 Q1478.04 1536.44 1473.29 1536.44 Q1468.58 1536.44 1465.94 1539.94 Q1463.33 1543.44 1463.33 1549.81 Q1463.33 1556.14 1465.94 1559.64 Q1468.58 1563.14 1473.29 1563.14 Q1478.04 1563.14 1480.65 1559.64 Q1483.29 1556.14 1483.29 1549.81 M1489.14 1563.62 Q1489.14 1572.72 1485.1 1577.15 Q1481.06 1581.6 1472.72 1581.6 Q1469.63 1581.6 1466.9 1581.13 Q1464.16 1580.68 1461.58 1579.72 L1461.58 1574.03 Q1464.16 1575.43 1466.67 1576.1 Q1469.19 1576.76 1471.8 1576.76 Q1477.56 1576.76 1480.42 1573.74 Q1483.29 1570.75 1483.29 1564.67 L1483.29 1561.77 Q1481.47 1564.92 1478.64 1566.48 Q1475.81 1568.04 1471.86 1568.04 Q1465.3 1568.04 1461.29 1563.05 Q1457.28 1558.05 1457.28 1549.81 Q1457.28 1541.53 1461.29 1536.53 Q1465.3 1531.54 1471.86 1531.54 Q1475.81 1531.54 1478.64 1533.1 Q1481.47 1534.66 1483.29 1537.81 L1483.29 1532.4 L1489.14 1532.4 L1489.14 1563.62 Z\" fill=\"#000000\" fill-rule=\"nonzero\" fill-opacity=\"1\" /><path clip-path=\"url(#clip630)\" d=\"M1502.03 1559.96 L1508.75 1559.96 L1508.75 1568.04 L1502.03 1568.04 L1502.03 1559.96 Z\" fill=\"#000000\" fill-rule=\"nonzero\" fill-opacity=\"1\" /><path clip-path=\"url(#clip630)\" d=\"M1542.9 1520.52 L1549.33 1520.52 L1549.33 1568.04 L1542.9 1568.04 L1542.9 1520.52 Z\" fill=\"#000000\" fill-rule=\"nonzero\" fill-opacity=\"1\" /><path clip-path=\"url(#clip630)\" d=\"M1591.5 1546.53 L1591.5 1568.04 L1585.65 1568.04 L1585.65 1546.72 Q1585.65 1541.66 1583.67 1539.14 Q1581.7 1536.63 1577.75 1536.63 Q1573.01 1536.63 1570.28 1539.65 Q1567.54 1542.68 1567.54 1547.9 L1567.54 1568.04 L1561.65 1568.04 L1561.65 1532.4 L1567.54 1532.4 L1567.54 1537.93 Q1569.64 1534.72 1572.47 1533.13 Q1575.34 1531.54 1579.06 1531.54 Q1585.2 1531.54 1588.35 1535.36 Q1591.5 1539.14 1591.5 1546.53 Z\" fill=\"#000000\" fill-rule=\"nonzero\" fill-opacity=\"1\" /><path clip-path=\"url(#clip630)\" d=\"M1628.84 1533.76 L1628.84 1539.24 Q1626.36 1537.87 1623.84 1537.2 Q1621.36 1536.5 1618.81 1536.5 Q1613.12 1536.5 1609.97 1540.13 Q1606.81 1543.73 1606.81 1550.25 Q1606.81 1556.78 1609.97 1560.4 Q1613.12 1564 1618.81 1564 Q1621.36 1564 1623.84 1563.33 Q1626.36 1562.63 1628.84 1561.26 L1628.84 1566.68 Q1626.39 1567.82 1623.75 1568.39 Q1621.14 1568.97 1618.18 1568.97 Q1610.12 1568.97 1605.38 1563.91 Q1600.64 1558.85 1600.64 1550.25 Q1600.64 1541.53 1605.41 1536.53 Q1610.22 1531.54 1618.56 1531.54 Q1621.26 1531.54 1623.84 1532.11 Q1626.42 1532.65 1628.84 1533.76 Z\" fill=\"#000000\" fill-rule=\"nonzero\" fill-opacity=\"1\" /><path clip-path=\"url(#clip630)\" d=\"M1652.84 1536.5 Q1648.13 1536.5 1645.39 1540.19 Q1642.65 1543.85 1642.65 1550.25 Q1642.65 1556.65 1645.36 1560.34 Q1648.1 1564 1652.84 1564 Q1657.52 1564 1660.25 1560.31 Q1662.99 1556.62 1662.99 1550.25 Q1662.99 1543.92 1660.25 1540.23 Q1657.52 1536.5 1652.84 1536.5 M1652.84 1531.54 Q1660.48 1531.54 1664.84 1536.5 Q1669.2 1541.47 1669.2 1550.25 Q1669.2 1559 1664.84 1564 Q1660.48 1568.97 1652.84 1568.97 Q1645.17 1568.97 1640.81 1564 Q1636.48 1559 1636.48 1550.25 Q1636.48 1541.47 1640.81 1536.5 Q1645.17 1531.54 1652.84 1531.54 Z\" fill=\"#000000\" fill-rule=\"nonzero\" fill-opacity=\"1\" /><path clip-path=\"url(#clip630)\" d=\"M1706.66 1539.24 Q1708.86 1535.29 1711.91 1533.41 Q1714.97 1531.54 1719.11 1531.54 Q1724.68 1531.54 1727.7 1535.45 Q1730.72 1539.33 1730.72 1546.53 L1730.72 1568.04 L1724.83 1568.04 L1724.83 1546.72 Q1724.83 1541.59 1723.02 1539.11 Q1721.21 1536.63 1717.48 1536.63 Q1712.93 1536.63 1710.29 1539.65 Q1707.65 1542.68 1707.65 1547.9 L1707.65 1568.04 L1701.76 1568.04 L1701.76 1546.72 Q1701.76 1541.56 1699.94 1539.11 Q1698.13 1536.63 1694.34 1536.63 Q1689.85 1536.63 1687.21 1539.68 Q1684.57 1542.71 1684.57 1547.9 L1684.57 1568.04 L1678.68 1568.04 L1678.68 1532.4 L1684.57 1532.4 L1684.57 1537.93 Q1686.58 1534.66 1689.38 1533.1 Q1692.18 1531.54 1696.03 1531.54 Q1699.91 1531.54 1702.62 1533.51 Q1705.36 1535.48 1706.66 1539.24 Z\" fill=\"#000000\" fill-rule=\"nonzero\" fill-opacity=\"1\" /><path clip-path=\"url(#clip630)\" d=\"M1772.9 1548.76 L1772.9 1551.62 L1745.97 1551.62 Q1746.35 1557.67 1749.6 1560.85 Q1752.88 1564 1758.7 1564 Q1762.07 1564 1765.22 1563.17 Q1768.41 1562.35 1771.53 1560.69 L1771.53 1566.23 Q1768.38 1567.57 1765.07 1568.27 Q1761.76 1568.97 1758.35 1568.97 Q1749.82 1568.97 1744.82 1564 Q1739.86 1559.04 1739.86 1550.57 Q1739.86 1541.82 1744.57 1536.69 Q1749.31 1531.54 1757.33 1531.54 Q1764.52 1531.54 1768.69 1536.18 Q1772.9 1540.8 1772.9 1548.76 M1767.04 1547.04 Q1766.98 1542.23 1764.33 1539.37 Q1761.72 1536.5 1757.4 1536.5 Q1752.49 1536.5 1749.53 1539.27 Q1746.61 1542.04 1746.16 1547.07 L1767.04 1547.04 Z\" fill=\"#000000\" fill-rule=\"nonzero\" fill-opacity=\"1\" /><polyline clip-path=\"url(#clip632)\" style=\"stroke:#000000; stroke-linecap:round; stroke-linejoin:round; stroke-width:2; stroke-opacity:0.1; fill:none\" points=\"249.542,1384.24 2352.76,1384.24 \"/>\n",
       "<polyline clip-path=\"url(#clip632)\" style=\"stroke:#000000; stroke-linecap:round; stroke-linejoin:round; stroke-width:2; stroke-opacity:0.1; fill:none\" points=\"249.542,1102.7 2352.76,1102.7 \"/>\n",
       "<polyline clip-path=\"url(#clip632)\" style=\"stroke:#000000; stroke-linecap:round; stroke-linejoin:round; stroke-width:2; stroke-opacity:0.1; fill:none\" points=\"249.542,821.154 2352.76,821.154 \"/>\n",
       "<polyline clip-path=\"url(#clip632)\" style=\"stroke:#000000; stroke-linecap:round; stroke-linejoin:round; stroke-width:2; stroke-opacity:0.1; fill:none\" points=\"249.542,539.612 2352.76,539.612 \"/>\n",
       "<polyline clip-path=\"url(#clip632)\" style=\"stroke:#000000; stroke-linecap:round; stroke-linejoin:round; stroke-width:2; stroke-opacity:0.1; fill:none\" points=\"249.542,258.07 2352.76,258.07 \"/>\n",
       "<polyline clip-path=\"url(#clip630)\" style=\"stroke:#000000; stroke-linecap:round; stroke-linejoin:round; stroke-width:4; stroke-opacity:1; fill:none\" points=\"249.542,1423.18 249.542,47.2441 \"/>\n",
       "<polyline clip-path=\"url(#clip630)\" style=\"stroke:#000000; stroke-linecap:round; stroke-linejoin:round; stroke-width:4; stroke-opacity:1; fill:none\" points=\"249.542,1384.24 268.44,1384.24 \"/>\n",
       "<polyline clip-path=\"url(#clip630)\" style=\"stroke:#000000; stroke-linecap:round; stroke-linejoin:round; stroke-width:4; stroke-opacity:1; fill:none\" points=\"249.542,1102.7 268.44,1102.7 \"/>\n",
       "<polyline clip-path=\"url(#clip630)\" style=\"stroke:#000000; stroke-linecap:round; stroke-linejoin:round; stroke-width:4; stroke-opacity:1; fill:none\" points=\"249.542,821.154 268.44,821.154 \"/>\n",
       "<polyline clip-path=\"url(#clip630)\" style=\"stroke:#000000; stroke-linecap:round; stroke-linejoin:round; stroke-width:4; stroke-opacity:1; fill:none\" points=\"249.542,539.612 268.44,539.612 \"/>\n",
       "<polyline clip-path=\"url(#clip630)\" style=\"stroke:#000000; stroke-linecap:round; stroke-linejoin:round; stroke-width:4; stroke-opacity:1; fill:none\" points=\"249.542,258.07 268.44,258.07 \"/>\n",
       "<path clip-path=\"url(#clip630)\" d=\"M126.205 1370.04 Q122.593 1370.04 120.765 1373.6 Q118.959 1377.14 118.959 1384.27 Q118.959 1391.38 120.765 1394.94 Q122.593 1398.49 126.205 1398.49 Q129.839 1398.49 131.644 1394.94 Q133.473 1391.38 133.473 1384.27 Q133.473 1377.14 131.644 1373.6 Q129.839 1370.04 126.205 1370.04 M126.205 1366.33 Q132.015 1366.33 135.07 1370.94 Q138.149 1375.52 138.149 1384.27 Q138.149 1393 135.07 1397.61 Q132.015 1402.19 126.205 1402.19 Q120.394 1402.19 117.316 1397.61 Q114.26 1393 114.26 1384.27 Q114.26 1375.52 117.316 1370.94 Q120.394 1366.33 126.205 1366.33 Z\" fill=\"#000000\" fill-rule=\"nonzero\" fill-opacity=\"1\" /><path clip-path=\"url(#clip630)\" d=\"M146.366 1395.64 L151.251 1395.64 L151.251 1401.52 L146.366 1401.52 L146.366 1395.64 Z\" fill=\"#000000\" fill-rule=\"nonzero\" fill-opacity=\"1\" /><path clip-path=\"url(#clip630)\" d=\"M171.436 1370.04 Q167.825 1370.04 165.996 1373.6 Q164.19 1377.14 164.19 1384.27 Q164.19 1391.38 165.996 1394.94 Q167.825 1398.49 171.436 1398.49 Q175.07 1398.49 176.876 1394.94 Q178.704 1391.38 178.704 1384.27 Q178.704 1377.14 176.876 1373.6 Q175.07 1370.04 171.436 1370.04 M171.436 1366.33 Q177.246 1366.33 180.301 1370.94 Q183.38 1375.52 183.38 1384.27 Q183.38 1393 180.301 1397.61 Q177.246 1402.19 171.436 1402.19 Q165.626 1402.19 162.547 1397.61 Q159.491 1393 159.491 1384.27 Q159.491 1375.52 162.547 1370.94 Q165.626 1366.33 171.436 1366.33 Z\" fill=\"#000000\" fill-rule=\"nonzero\" fill-opacity=\"1\" /><path clip-path=\"url(#clip630)\" d=\"M201.598 1370.04 Q197.987 1370.04 196.158 1373.6 Q194.352 1377.14 194.352 1384.27 Q194.352 1391.38 196.158 1394.94 Q197.987 1398.49 201.598 1398.49 Q205.232 1398.49 207.037 1394.94 Q208.866 1391.38 208.866 1384.27 Q208.866 1377.14 207.037 1373.6 Q205.232 1370.04 201.598 1370.04 M201.598 1366.33 Q207.408 1366.33 210.463 1370.94 Q213.542 1375.52 213.542 1384.27 Q213.542 1393 210.463 1397.61 Q207.408 1402.19 201.598 1402.19 Q195.787 1402.19 192.709 1397.61 Q189.653 1393 189.653 1384.27 Q189.653 1375.52 192.709 1370.94 Q195.787 1366.33 201.598 1366.33 Z\" fill=\"#000000\" fill-rule=\"nonzero\" fill-opacity=\"1\" /><path clip-path=\"url(#clip630)\" d=\"M127.2 1088.5 Q123.589 1088.5 121.76 1092.06 Q119.955 1095.6 119.955 1102.73 Q119.955 1109.84 121.76 1113.4 Q123.589 1116.94 127.2 1116.94 Q130.834 1116.94 132.64 1113.4 Q134.468 1109.84 134.468 1102.73 Q134.468 1095.6 132.64 1092.06 Q130.834 1088.5 127.2 1088.5 M127.2 1084.79 Q133.01 1084.79 136.066 1089.4 Q139.144 1093.98 139.144 1102.73 Q139.144 1111.46 136.066 1116.06 Q133.01 1120.65 127.2 1120.65 Q121.39 1120.65 118.311 1116.06 Q115.256 1111.46 115.256 1102.73 Q115.256 1093.98 118.311 1089.4 Q121.39 1084.79 127.2 1084.79 Z\" fill=\"#000000\" fill-rule=\"nonzero\" fill-opacity=\"1\" /><path clip-path=\"url(#clip630)\" d=\"M147.362 1114.1 L152.246 1114.1 L152.246 1119.98 L147.362 1119.98 L147.362 1114.1 Z\" fill=\"#000000\" fill-rule=\"nonzero\" fill-opacity=\"1\" /><path clip-path=\"url(#clip630)\" d=\"M172.431 1088.5 Q168.82 1088.5 166.991 1092.06 Q165.186 1095.6 165.186 1102.73 Q165.186 1109.84 166.991 1113.4 Q168.82 1116.94 172.431 1116.94 Q176.065 1116.94 177.871 1113.4 Q179.7 1109.84 179.7 1102.73 Q179.7 1095.6 177.871 1092.06 Q176.065 1088.5 172.431 1088.5 M172.431 1084.79 Q178.241 1084.79 181.297 1089.4 Q184.376 1093.98 184.376 1102.73 Q184.376 1111.46 181.297 1116.06 Q178.241 1120.65 172.431 1120.65 Q166.621 1120.65 163.542 1116.06 Q160.487 1111.46 160.487 1102.73 Q160.487 1093.98 163.542 1089.4 Q166.621 1084.79 172.431 1084.79 Z\" fill=\"#000000\" fill-rule=\"nonzero\" fill-opacity=\"1\" /><path clip-path=\"url(#clip630)\" d=\"M192.639 1085.42 L210.996 1085.42 L210.996 1089.35 L196.922 1089.35 L196.922 1097.82 Q197.94 1097.48 198.959 1097.31 Q199.977 1097.13 200.996 1097.13 Q206.783 1097.13 210.162 1100.3 Q213.542 1103.47 213.542 1108.89 Q213.542 1114.47 210.07 1117.57 Q206.598 1120.65 200.278 1120.65 Q198.102 1120.65 195.834 1120.28 Q193.588 1119.91 191.181 1119.17 L191.181 1114.47 Q193.264 1115.6 195.487 1116.16 Q197.709 1116.71 200.186 1116.71 Q204.19 1116.71 206.528 1114.61 Q208.866 1112.5 208.866 1108.89 Q208.866 1105.28 206.528 1103.17 Q204.19 1101.06 200.186 1101.06 Q198.311 1101.06 196.436 1101.48 Q194.584 1101.9 192.639 1102.78 L192.639 1085.42 Z\" fill=\"#000000\" fill-rule=\"nonzero\" fill-opacity=\"1\" /><path clip-path=\"url(#clip630)\" d=\"M126.205 806.953 Q122.593 806.953 120.765 810.518 Q118.959 814.059 118.959 821.189 Q118.959 828.295 120.765 831.86 Q122.593 835.402 126.205 835.402 Q129.839 835.402 131.644 831.86 Q133.473 828.295 133.473 821.189 Q133.473 814.059 131.644 810.518 Q129.839 806.953 126.205 806.953 M126.205 803.249 Q132.015 803.249 135.07 807.856 Q138.149 812.439 138.149 821.189 Q138.149 829.916 135.07 834.522 Q132.015 839.106 126.205 839.106 Q120.394 839.106 117.316 834.522 Q114.26 829.916 114.26 821.189 Q114.26 812.439 117.316 807.856 Q120.394 803.249 126.205 803.249 Z\" fill=\"#000000\" fill-rule=\"nonzero\" fill-opacity=\"1\" /><path clip-path=\"url(#clip630)\" d=\"M146.366 832.555 L151.251 832.555 L151.251 838.434 L146.366 838.434 L146.366 832.555 Z\" fill=\"#000000\" fill-rule=\"nonzero\" fill-opacity=\"1\" /><path clip-path=\"url(#clip630)\" d=\"M162.246 834.499 L169.885 834.499 L169.885 808.134 L161.575 809.8 L161.575 805.541 L169.839 803.874 L174.514 803.874 L174.514 834.499 L182.153 834.499 L182.153 838.434 L162.246 838.434 L162.246 834.499 Z\" fill=\"#000000\" fill-rule=\"nonzero\" fill-opacity=\"1\" /><path clip-path=\"url(#clip630)\" d=\"M201.598 806.953 Q197.987 806.953 196.158 810.518 Q194.352 814.059 194.352 821.189 Q194.352 828.295 196.158 831.86 Q197.987 835.402 201.598 835.402 Q205.232 835.402 207.037 831.86 Q208.866 828.295 208.866 821.189 Q208.866 814.059 207.037 810.518 Q205.232 806.953 201.598 806.953 M201.598 803.249 Q207.408 803.249 210.463 807.856 Q213.542 812.439 213.542 821.189 Q213.542 829.916 210.463 834.522 Q207.408 839.106 201.598 839.106 Q195.787 839.106 192.709 834.522 Q189.653 829.916 189.653 821.189 Q189.653 812.439 192.709 807.856 Q195.787 803.249 201.598 803.249 Z\" fill=\"#000000\" fill-rule=\"nonzero\" fill-opacity=\"1\" /><path clip-path=\"url(#clip630)\" d=\"M127.2 525.411 Q123.589 525.411 121.76 528.976 Q119.955 532.517 119.955 539.647 Q119.955 546.753 121.76 550.318 Q123.589 553.86 127.2 553.86 Q130.834 553.86 132.64 550.318 Q134.468 546.753 134.468 539.647 Q134.468 532.517 132.64 528.976 Q130.834 525.411 127.2 525.411 M127.2 521.707 Q133.01 521.707 136.066 526.314 Q139.144 530.897 139.144 539.647 Q139.144 548.374 136.066 552.98 Q133.01 557.564 127.2 557.564 Q121.39 557.564 118.311 552.98 Q115.256 548.374 115.256 539.647 Q115.256 530.897 118.311 526.314 Q121.39 521.707 127.2 521.707 Z\" fill=\"#000000\" fill-rule=\"nonzero\" fill-opacity=\"1\" /><path clip-path=\"url(#clip630)\" d=\"M147.362 551.013 L152.246 551.013 L152.246 556.892 L147.362 556.892 L147.362 551.013 Z\" fill=\"#000000\" fill-rule=\"nonzero\" fill-opacity=\"1\" /><path clip-path=\"url(#clip630)\" d=\"M163.241 552.957 L170.88 552.957 L170.88 526.591 L162.57 528.258 L162.57 523.999 L170.834 522.332 L175.51 522.332 L175.51 552.957 L183.149 552.957 L183.149 556.892 L163.241 556.892 L163.241 552.957 Z\" fill=\"#000000\" fill-rule=\"nonzero\" fill-opacity=\"1\" /><path clip-path=\"url(#clip630)\" d=\"M192.639 522.332 L210.996 522.332 L210.996 526.267 L196.922 526.267 L196.922 534.74 Q197.94 534.392 198.959 534.23 Q199.977 534.045 200.996 534.045 Q206.783 534.045 210.162 537.216 Q213.542 540.388 213.542 545.804 Q213.542 551.383 210.07 554.485 Q206.598 557.564 200.278 557.564 Q198.102 557.564 195.834 557.193 Q193.588 556.823 191.181 556.082 L191.181 551.383 Q193.264 552.517 195.487 553.073 Q197.709 553.628 200.186 553.628 Q204.19 553.628 206.528 551.522 Q208.866 549.415 208.866 545.804 Q208.866 542.193 206.528 540.087 Q204.19 537.98 200.186 537.98 Q198.311 537.98 196.436 538.397 Q194.584 538.814 192.639 539.693 L192.639 522.332 Z\" fill=\"#000000\" fill-rule=\"nonzero\" fill-opacity=\"1\" /><path clip-path=\"url(#clip630)\" d=\"M126.205 243.869 Q122.593 243.869 120.765 247.434 Q118.959 250.975 118.959 258.105 Q118.959 265.211 120.765 268.776 Q122.593 272.318 126.205 272.318 Q129.839 272.318 131.644 268.776 Q133.473 265.211 133.473 258.105 Q133.473 250.975 131.644 247.434 Q129.839 243.869 126.205 243.869 M126.205 240.165 Q132.015 240.165 135.07 244.772 Q138.149 249.355 138.149 258.105 Q138.149 266.832 135.07 271.438 Q132.015 276.021 126.205 276.021 Q120.394 276.021 117.316 271.438 Q114.26 266.832 114.26 258.105 Q114.26 249.355 117.316 244.772 Q120.394 240.165 126.205 240.165 Z\" fill=\"#000000\" fill-rule=\"nonzero\" fill-opacity=\"1\" /><path clip-path=\"url(#clip630)\" d=\"M146.366 269.471 L151.251 269.471 L151.251 275.35 L146.366 275.35 L146.366 269.471 Z\" fill=\"#000000\" fill-rule=\"nonzero\" fill-opacity=\"1\" /><path clip-path=\"url(#clip630)\" d=\"M165.464 271.415 L181.783 271.415 L181.783 275.35 L159.839 275.35 L159.839 271.415 Q162.501 268.66 167.084 264.031 Q171.69 259.378 172.871 258.035 Q175.116 255.512 175.996 253.776 Q176.899 252.017 176.899 250.327 Q176.899 247.573 174.954 245.836 Q173.033 244.1 169.931 244.1 Q167.732 244.1 165.278 244.864 Q162.848 245.628 160.07 247.179 L160.07 242.457 Q162.894 241.323 165.348 240.744 Q167.802 240.165 169.839 240.165 Q175.209 240.165 178.403 242.85 Q181.598 245.536 181.598 250.026 Q181.598 252.156 180.788 254.077 Q180.001 255.975 177.894 258.568 Q177.315 259.239 174.214 262.457 Q171.112 265.651 165.464 271.415 Z\" fill=\"#000000\" fill-rule=\"nonzero\" fill-opacity=\"1\" /><path clip-path=\"url(#clip630)\" d=\"M201.598 243.869 Q197.987 243.869 196.158 247.434 Q194.352 250.975 194.352 258.105 Q194.352 265.211 196.158 268.776 Q197.987 272.318 201.598 272.318 Q205.232 272.318 207.037 268.776 Q208.866 265.211 208.866 258.105 Q208.866 250.975 207.037 247.434 Q205.232 243.869 201.598 243.869 M201.598 240.165 Q207.408 240.165 210.463 244.772 Q213.542 249.355 213.542 258.105 Q213.542 266.832 210.463 271.438 Q207.408 276.021 201.598 276.021 Q195.787 276.021 192.709 271.438 Q189.653 266.832 189.653 258.105 Q189.653 249.355 192.709 244.772 Q195.787 240.165 201.598 240.165 Z\" fill=\"#000000\" fill-rule=\"nonzero\" fill-opacity=\"1\" /><path clip-path=\"url(#clip630)\" d=\"M21.7677 988.694 L39.6235 988.694 L39.6235 980.61 Q39.6235 976.122 37.3 973.671 Q34.9765 971.221 30.6797 971.221 Q26.4147 971.221 24.0912 973.671 Q21.7677 976.122 21.7677 980.61 L21.7677 988.694 M16.4842 995.124 L16.4842 980.61 Q16.4842 972.621 20.1126 968.547 Q23.7092 964.441 30.6797 964.441 Q37.7138 964.441 41.3104 968.547 Q44.907 972.621 44.907 980.61 L44.907 988.694 L64.0042 988.694 L64.0042 995.124 L16.4842 995.124 Z\" fill=\"#000000\" fill-rule=\"nonzero\" fill-opacity=\"1\" /><path clip-path=\"url(#clip630)\" d=\"M33.8307 936.559 Q33.2578 937.546 33.0032 938.724 Q32.7167 939.869 32.7167 941.27 Q32.7167 946.235 35.9632 948.909 Q39.1779 951.551 45.2253 951.551 L64.0042 951.551 L64.0042 957.439 L28.3562 957.439 L28.3562 951.551 L33.8944 951.551 Q30.6479 949.704 29.0883 946.744 Q27.4968 943.784 27.4968 939.551 Q27.4968 938.946 27.5923 938.214 Q27.656 937.482 27.8151 936.591 L33.8307 936.559 Z\" fill=\"#000000\" fill-rule=\"nonzero\" fill-opacity=\"1\" /><path clip-path=\"url(#clip630)\" d=\"M32.4621 918.035 Q32.4621 922.746 36.1542 925.483 Q39.8145 928.22 46.212 928.22 Q52.6095 928.22 56.3017 925.515 Q59.9619 922.778 59.9619 918.035 Q59.9619 913.356 56.2698 910.619 Q52.5777 907.882 46.212 907.882 Q39.8781 907.882 36.186 910.619 Q32.4621 913.356 32.4621 918.035 M27.4968 918.035 Q27.4968 910.396 32.4621 906.036 Q37.4273 901.675 46.212 901.675 Q54.9649 901.675 59.9619 906.036 Q64.9272 910.396 64.9272 918.035 Q64.9272 925.706 59.9619 930.066 Q54.9649 934.395 46.212 934.395 Q37.4273 934.395 32.4621 930.066 Q27.4968 925.706 27.4968 918.035 Z\" fill=\"#000000\" fill-rule=\"nonzero\" fill-opacity=\"1\" /><path clip-path=\"url(#clip630)\" d=\"M46.212 866.377 Q39.7508 866.377 36.0905 869.051 Q32.3984 871.693 32.3984 876.34 Q32.3984 880.987 36.0905 883.66 Q39.7508 886.302 46.212 886.302 Q52.6732 886.302 56.3653 883.66 Q60.0256 880.987 60.0256 876.34 Q60.0256 871.693 56.3653 869.051 Q52.6732 866.377 46.212 866.377 M33.7671 886.302 Q30.5842 884.456 29.0564 881.655 Q27.4968 878.822 27.4968 874.907 Q27.4968 868.414 32.6531 864.372 Q37.8093 860.298 46.212 860.298 Q54.6147 860.298 59.771 864.372 Q64.9272 868.414 64.9272 874.907 Q64.9272 878.822 63.3994 881.655 Q61.8398 884.456 58.657 886.302 L64.0042 886.302 L64.0042 892.19 L14.479 892.19 L14.479 886.302 L33.7671 886.302 Z\" fill=\"#000000\" fill-rule=\"nonzero\" fill-opacity=\"1\" /><path clip-path=\"url(#clip630)\" d=\"M46.0847 834.39 Q46.0847 841.487 47.7079 844.225 Q49.3312 846.962 53.2461 846.962 Q56.3653 846.962 58.2114 844.925 Q60.0256 842.856 60.0256 839.323 Q60.0256 834.453 56.5881 831.525 Q53.1188 828.565 47.3897 828.565 L46.0847 828.565 L46.0847 834.39 M43.6657 822.709 L64.0042 822.709 L64.0042 828.565 L58.5933 828.565 Q61.8398 830.57 63.3994 833.562 Q64.9272 836.554 64.9272 840.883 Q64.9272 846.357 61.8716 849.604 Q58.7843 852.818 53.6281 852.818 Q47.6125 852.818 44.5569 848.808 Q41.5014 844.766 41.5014 836.777 L41.5014 828.565 L40.9285 828.565 Q36.8862 828.565 34.6901 831.239 Q32.4621 833.88 32.4621 838.687 Q32.4621 841.742 33.1941 844.638 Q33.9262 847.535 35.3903 850.208 L29.9795 850.208 Q28.7381 846.994 28.1334 843.97 Q27.4968 840.946 27.4968 838.082 Q27.4968 830.347 31.5072 826.528 Q35.5176 822.709 43.6657 822.709 Z\" fill=\"#000000\" fill-rule=\"nonzero\" fill-opacity=\"1\" /><path clip-path=\"url(#clip630)\" d=\"M46.212 785.055 Q39.7508 785.055 36.0905 787.729 Q32.3984 790.371 32.3984 795.018 Q32.3984 799.665 36.0905 802.338 Q39.7508 804.98 46.212 804.98 Q52.6732 804.98 56.3653 802.338 Q60.0256 799.665 60.0256 795.018 Q60.0256 790.371 56.3653 787.729 Q52.6732 785.055 46.212 785.055 M33.7671 804.98 Q30.5842 803.134 29.0564 800.333 Q27.4968 797.5 27.4968 793.585 Q27.4968 787.092 32.6531 783.05 Q37.8093 778.976 46.212 778.976 Q54.6147 778.976 59.771 783.05 Q64.9272 787.092 64.9272 793.585 Q64.9272 797.5 63.3994 800.333 Q61.8398 803.134 58.657 804.98 L64.0042 804.98 L64.0042 810.868 L14.479 810.868 L14.479 804.98 L33.7671 804.98 Z\" fill=\"#000000\" fill-rule=\"nonzero\" fill-opacity=\"1\" /><path clip-path=\"url(#clip630)\" d=\"M28.3562 769.268 L28.3562 763.412 L64.0042 763.412 L64.0042 769.268 L28.3562 769.268 M14.479 769.268 L14.479 763.412 L21.895 763.412 L21.895 769.268 L14.479 769.268 Z\" fill=\"#000000\" fill-rule=\"nonzero\" fill-opacity=\"1\" /><path clip-path=\"url(#clip630)\" d=\"M14.479 751.158 L14.479 745.302 L64.0042 745.302 L64.0042 751.158 L14.479 751.158 Z\" fill=\"#000000\" fill-rule=\"nonzero\" fill-opacity=\"1\" /><path clip-path=\"url(#clip630)\" d=\"M28.3562 733.048 L28.3562 727.191 L64.0042 727.191 L64.0042 733.048 L28.3562 733.048 M14.479 733.048 L14.479 727.191 L21.895 727.191 L21.895 733.048 L14.479 733.048 Z\" fill=\"#000000\" fill-rule=\"nonzero\" fill-opacity=\"1\" /><path clip-path=\"url(#clip630)\" d=\"M18.2347 709.144 L28.3562 709.144 L28.3562 697.081 L32.9077 697.081 L32.9077 709.144 L52.2594 709.144 Q56.6199 709.144 57.8613 707.967 Q59.1026 706.757 59.1026 703.097 L59.1026 697.081 L64.0042 697.081 L64.0042 703.097 Q64.0042 709.876 61.4897 712.455 Q58.9434 715.033 52.2594 715.033 L32.9077 715.033 L32.9077 719.33 L28.3562 719.33 L28.3562 715.033 L18.2347 715.033 L18.2347 709.144 Z\" fill=\"#000000\" fill-rule=\"nonzero\" fill-opacity=\"1\" /><path clip-path=\"url(#clip630)\" d=\"M67.3143 674.547 Q73.68 677.029 75.6216 679.385 Q77.5631 681.74 77.5631 685.687 L77.5631 690.366 L72.6615 690.366 L72.6615 686.928 Q72.6615 684.509 71.5157 683.172 Q70.3699 681.836 66.1048 680.212 L63.4312 679.162 L28.3562 693.58 L28.3562 687.374 L56.238 676.234 L28.3562 665.094 L28.3562 658.887 L67.3143 674.547 Z\" fill=\"#000000\" fill-rule=\"nonzero\" fill-opacity=\"1\" /><path clip-path=\"url(#clip630)\" d=\"M16.4842 629.828 L16.4842 620.247 L48.8219 608.121 L16.4842 595.93 L16.4842 586.35 L64.0042 586.35 L64.0042 592.62 L22.277 592.62 L54.8694 604.874 L54.8694 611.335 L22.277 623.589 L64.0042 623.589 L64.0042 629.828 L16.4842 629.828 Z\" fill=\"#000000\" fill-rule=\"nonzero\" fill-opacity=\"1\" /><path clip-path=\"url(#clip630)\" d=\"M46.0847 557.641 Q46.0847 564.738 47.7079 567.476 Q49.3312 570.213 53.2461 570.213 Q56.3653 570.213 58.2114 568.176 Q60.0256 566.107 60.0256 562.574 Q60.0256 557.704 56.5881 554.776 Q53.1188 551.816 47.3897 551.816 L46.0847 551.816 L46.0847 557.641 M43.6657 545.96 L64.0042 545.96 L64.0042 551.816 L58.5933 551.816 Q61.8398 553.821 63.3994 556.813 Q64.9272 559.805 64.9272 564.134 Q64.9272 569.608 61.8716 572.855 Q58.7843 576.069 53.6281 576.069 Q47.6125 576.069 44.5569 572.059 Q41.5014 568.017 41.5014 560.028 L41.5014 551.816 L40.9285 551.816 Q36.8862 551.816 34.6901 554.49 Q32.4621 557.131 32.4621 561.937 Q32.4621 564.993 33.1941 567.889 Q33.9262 570.786 35.3903 573.459 L29.9795 573.459 Q28.7381 570.245 28.1334 567.221 Q27.4968 564.197 27.4968 561.333 Q27.4968 553.598 31.5072 549.779 Q35.5176 545.96 43.6657 545.96 Z\" fill=\"#000000\" fill-rule=\"nonzero\" fill-opacity=\"1\" /><path clip-path=\"url(#clip630)\" d=\"M29.4065 511.171 L34.9447 511.171 Q33.6716 513.654 33.035 516.327 Q32.3984 519.001 32.3984 521.865 Q32.3984 526.226 33.7352 528.422 Q35.072 530.586 37.7456 530.586 Q39.7826 530.586 40.9603 529.027 Q42.1061 527.467 43.1565 522.757 L43.6021 520.751 Q44.9389 514.513 47.3897 511.903 Q49.8086 509.261 54.1691 509.261 Q59.1344 509.261 62.0308 513.208 Q64.9272 517.123 64.9272 523.998 Q64.9272 526.862 64.3543 529.982 Q63.8132 533.069 62.6992 536.506 L56.6518 536.506 Q58.3387 533.26 59.198 530.109 Q60.0256 526.958 60.0256 523.871 Q60.0256 519.733 58.6251 517.505 Q57.1929 515.277 54.6147 515.277 Q52.2276 515.277 50.9545 516.9 Q49.6813 518.491 48.5037 523.934 L48.0262 525.971 Q46.8804 531.414 44.5251 533.833 Q42.138 536.252 38.0002 536.252 Q32.9713 536.252 30.2341 532.687 Q27.4968 529.122 27.4968 522.566 Q27.4968 519.319 27.9743 516.454 Q28.4517 513.59 29.4065 511.171 Z\" fill=\"#000000\" fill-rule=\"nonzero\" fill-opacity=\"1\" /><path clip-path=\"url(#clip630)\" d=\"M29.4065 477.21 L34.9447 477.21 Q33.6716 479.693 33.035 482.366 Q32.3984 485.04 32.3984 487.904 Q32.3984 492.265 33.7352 494.461 Q35.072 496.625 37.7456 496.625 Q39.7826 496.625 40.9603 495.066 Q42.1061 493.506 43.1565 488.795 L43.6021 486.79 Q44.9389 480.552 47.3897 477.942 Q49.8086 475.3 54.1691 475.3 Q59.1344 475.3 62.0308 479.247 Q64.9272 483.162 64.9272 490.037 Q64.9272 492.901 64.3543 496.021 Q63.8132 499.108 62.6992 502.545 L56.6518 502.545 Q58.3387 499.299 59.198 496.148 Q60.0256 492.997 60.0256 489.909 Q60.0256 485.772 58.6251 483.544 Q57.1929 481.316 54.6147 481.316 Q52.2276 481.316 50.9545 482.939 Q49.6813 484.53 48.5037 489.973 L48.0262 492.01 Q46.8804 497.453 44.5251 499.872 Q42.138 502.291 38.0002 502.291 Q32.9713 502.291 30.2341 498.726 Q27.4968 495.161 27.4968 488.604 Q27.4968 485.358 27.9743 482.493 Q28.4517 479.629 29.4065 477.21 Z\" fill=\"#000000\" fill-rule=\"nonzero\" fill-opacity=\"1\" /><polyline clip-path=\"url(#clip632)\" style=\"stroke:#00008b; stroke-linecap:round; stroke-linejoin:round; stroke-width:16; stroke-opacity:0.5; fill:none\" points=\"309.067,86.1857 329.109,539.152 349.151,773.904 369.193,903.532 389.235,1054.4 409.277,1086.18 429.319,1158.23 449.361,1201.88 469.403,1241.63 489.446,1248.47 509.488,1272.39 529.53,1284.62 549.572,1296.12 569.614,1305.48 589.656,1317.56 609.698,1324.97 629.74,1329.64 649.782,1338.93 669.824,1343.64 689.866,1347.56 709.908,1351.12 729.95,1354.3 749.992,1357.5 770.034,1360 790.076,1361.47 810.118,1363.41 830.161,1365.34 850.203,1366.87 870.245,1367.9 890.287,1368.95 910.329,1369.81 930.371,1371.12 950.413,1372 970.455,1372.64 990.497,1373.54 1010.54,1374.39 1030.58,1374.99 1050.62,1375.68 1070.67,1376.38 1090.71,1377.03 1110.75,1377.48 1130.79,1378.01 1150.83,1378.6 1170.88,1378.95 1190.92,1379.43 1210.96,1379.9 1231,1380.25 1251.04,1380.52 1271.09,1380.96 1291.13,1381.27 1311.17,1381.54 1331.21,1381.82 1351.25,1382.06 1371.3,1382.26 1391.34,1382.46 1411.38,1382.68 1431.42,1382.86 1451.46,1383.02 1471.51,1383.15 1491.55,1383.24 1511.59,1383.4 1531.63,1383.51 1551.67,1383.6 1571.72,1383.68 1591.76,1383.75 1611.8,1383.81 1631.84,1383.88 1651.89,1383.94 1671.93,1383.98 1691.97,1384.01 1712.01,1384.04 1732.05,1384.08 1752.1,1384.1 1772.14,1384.13 1792.18,1384.14 1812.22,1384.16 1832.26,1384.17 1852.31,1384.19 1872.35,1384.2 1892.39,1384.2 1912.43,1384.21 1932.47,1384.22 1952.52,1384.22 1972.56,1384.22 1992.6,1384.23 2012.64,1384.23 2032.68,1384.23 2052.73,1384.23 2072.77,1384.23 2092.81,1384.24 2112.85,1384.24 2132.89,1384.24 2152.94,1384.24 2172.98,1384.24 2193.02,1384.24 2213.06,1384.24 2233.1,1384.24 2253.15,1384.24 2273.19,1384.24 2293.23,1384.24 \"/>\n",
       "</svg>\n"
      ]
     },
     "execution_count": 30,
     "metadata": {},
     "output_type": "execute_result"
    }
   ],
   "source": [
    "adist = get_distribution(dist.state_index, dist.λ);\n",
    "\n",
    "plot(hh_prm.agrid , adist, alpha = 0.5, lw = 4,\n",
    "    color = \"dark blue\", ylabel = \"Probability Mass\", \n",
    "    xlabel = \"Asset Holdings / Avg. Income\", label = false)"
   ]
  },
  {
   "cell_type": "code",
   "execution_count": null,
   "metadata": {},
   "outputs": [],
   "source": []
  }
 ],
 "metadata": {
  "kernelspec": {
   "display_name": "Julia 1.9.4",
   "language": "julia",
   "name": "julia-1.9"
  },
  "language_info": {
   "file_extension": ".jl",
   "mimetype": "application/julia",
   "name": "julia",
   "version": "1.9.4"
  }
 },
 "nbformat": 4,
 "nbformat_minor": 2
}
